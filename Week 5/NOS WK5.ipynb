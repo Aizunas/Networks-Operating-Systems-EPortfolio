{
 "cells": [
  {
   "cell_type": "code",
   "execution_count": null,
   "metadata": {},
   "outputs": [
    {
     "name": "stdout",
     "output_type": "stream",
     "text": [
      "TCP Server is listening...\n",
      "Connected to ('127.0.0.1', 53962)\n",
      "Received: \n",
      "Connected to ('127.0.0.1', 54342)\n",
      "Received: \n",
      "Connected to ('127.0.0.1', 54402)\n",
      "Received: \n",
      "Connected to ('127.0.0.1', 54427)\n",
      "Received: \n",
      "Connected to ('127.0.0.1', 54458)\n",
      "Received: \n",
      "Connected to ('127.0.0.1', 54471)\n",
      "Received: \n",
      "Connected to ('127.0.0.1', 54495)\n",
      "Received: \n",
      "Connected to ('127.0.0.1', 54512)\n",
      "Received: \n",
      "Connected to ('127.0.0.1', 54532)\n",
      "Received: Heloooo\n",
      "Connected to ('127.0.0.1', 54572)\n",
      "Received: byeee\n",
      "Connected to ('127.0.0.1', 54576)\n",
      "Received: byee\n",
      "Connected to ('127.0.0.1', 54579)\n",
      "Received: goodbye\n",
      "Connected to ('127.0.0.1', 54590)\n",
      "Received: yo\n",
      "Connected to ('127.0.0.1', 54593)\n",
      "Received: you\n"
     ]
    }
   ],
   "source": [
    "import socket\n",
    "# Create a TCP socket\n",
    "server_socket = socket.socket(socket.AF_INET, socket.SOCK_STREAM)\n",
    "server_socket.bind(('localhost', 65432))\n",
    "server_socket.listen(1) # Allow 1 pending connection\n",
    "print(\"TCP Server is listening...\")\n",
    "while True:\n",
    "    client_socket, client_address = server_socket.accept()\n",
    "    print(f\"Connected to {client_address}\")\n",
    "\n",
    "    data = client_socket.recv(1024)\n",
    "    print(f\"Received: {data.decode()}\")\n",
    "\n",
    "    # Echo back the data \n",
    "    client_socket.sendall(b\"ACK: \" + data)\n",
    "    client_socket.close()"
   ]
  },
  {
   "cell_type": "code",
   "execution_count": null,
   "metadata": {},
   "outputs": [],
   "source": [
    "import socket \n",
    "\n",
    "# Create a UDP socket \n",
    "server_socket = socket.socket(socket.AF_INET, socket.SOCK_DGRAM)\n",
    "server_socket.bind(('localhost', 65432))\n",
    "\n",
    "\n",
    "print(\"TCP Server is listening...\")\n",
    "while True:\n",
    "    client_socket, client_address = server_socket.accept()\n",
    "    print(f\"Connected to {client_address}\")\n",
    "\n",
    "    data = client_socket.recv(1024)\n",
    "    print(f\"Received: {data.decode()}\")\n",
    "\n",
    "    # Echo back the data \n",
    "    client_socket.sendall(b\"ACK: \" + data)\n",
    "    client_socket.close()"
   ]
  },
  {
   "cell_type": "code",
   "execution_count": null,
   "metadata": {},
   "outputs": [],
   "source": [
    "import socket\n",
    "\n",
    "server_socket = socket.socket(socket.AF_INET, socket.SOCK_DGRAM)\n",
    "server_socket.bind(('localhost', 65432))\n",
    "\n",
    "print(\"UDP Server is listening...\")\n",
    "while True:\n",
    "    data, client_address = server_socket.recvfrom(1024)\n",
    "    print(f\"Received from {client_address}: {data.decode()}\")\n",
    "    server_socket.sendto(b\"ACK: \" + data, client_address)"
   ]
  }
 ],
 "metadata": {
  "kernelspec": {
   "display_name": "base",
   "language": "python",
   "name": "python3"
  },
  "language_info": {
   "codemirror_mode": {
    "name": "ipython",
    "version": 3
   },
   "file_extension": ".py",
   "mimetype": "text/x-python",
   "name": "python",
   "nbconvert_exporter": "python",
   "pygments_lexer": "ipython3",
   "version": "3.12.4"
  }
 },
 "nbformat": 4,
 "nbformat_minor": 2
}
