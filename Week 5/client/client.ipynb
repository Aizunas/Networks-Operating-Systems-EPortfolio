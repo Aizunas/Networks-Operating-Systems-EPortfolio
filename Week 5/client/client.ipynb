{
 "cells": [
  {
   "cell_type": "code",
   "execution_count": 1,
   "metadata": {},
   "outputs": [
    {
     "name": "stdout",
     "output_type": "stream",
     "text": [
      "Server response: ACK: yo\n"
     ]
    }
   ],
   "source": [
    "\n",
    "# Building a Simple TCP Client\n",
    "import socket\n",
    "\n",
    "client_socket = socket.socket(socket.AF_INET, socket.SOCK_STREAM)\n",
    "client_socket.connect(('localhost', 65432))\n",
    "\n",
    "message = input(\"Enter message: \")\n",
    "client_socket.sendall(message.encode())\n",
    "\n",
    "response = client_socket.recv(1024)\n",
    "print(f\"Server response: {response.decode()}\")\n",
    "\n",
    "client_socket.close()"
   ]
  },
  {
   "cell_type": "code",
   "execution_count": 2,
   "metadata": {},
   "outputs": [
    {
     "name": "stdout",
     "output_type": "stream",
     "text": [
      "Server response: ACK: hi\n",
      "Time taken: 0:00:03.386596\n"
     ]
    }
   ],
   "source": [
    "# Exercise 1: Measure Time to Send Data\n",
    "import socket\n",
    "import datetime\n",
    "\n",
    "# client setup\n",
    "client_socket = socket.socket(socket.AF_INET, socket.SOCK_STREAM)\n",
    "client_socket.connect(('localhost', 65432))\n",
    "\n",
    "# measure time\n",
    "start_time = datetime.datetime.now()\n",
    "\n",
    "message = input(\"Enter message: \")\n",
    "client_socket.sendall(message.encode())\n",
    "\n",
    "response = client_socket.recv(1024)\n",
    "print(f\"Server response: {response.decode()}\")\n",
    "\n",
    "end_time = datetime.datetime.now()\n",
    "print(f\"Time taken: {end_time - start_time}\")\n",
    "\n",
    "client_socket.close()"
   ]
  },
  {
   "cell_type": "code",
   "execution_count": 1,
   "metadata": {},
   "outputs": [
    {
     "name": "stdout",
     "output_type": "stream",
     "text": [
      "Server response: ACK: byee\n",
      "Time taken: 0:00:04.832843\n"
     ]
    }
   ],
   "source": [
    "# Exercise 2: Send Data Using UDP\n",
    "# UDP Client:\n",
    "import socket\n",
    "import datetime\n",
    "\n",
    "# client setup\n",
    "client_socket = socket.socket(socket.AF_INET, socket.SOCK_DGRAM)\n",
    "\n",
    "# measure time\n",
    "start_time = datetime.datetime.now()\n",
    "\n",
    "message = input(\"Enter message: \")\n",
    "client_socket.sendto(message.encode(), ('localhost', 65432))\n",
    "\n",
    "response, _ = client_socket.recvfrom(1024)\n",
    "print(f\"Server response: {response.decode()}\")\n",
    "\n",
    "end_time = datetime.datetime.now()\n",
    "print(f\"Time taken: {end_time - start_time}\")\n",
    "\n",
    "client_socket.close()"
   ]
  },
  {
   "cell_type": "code",
   "execution_count": 9,
   "metadata": {},
   "outputs": [
    {
     "name": "stdout",
     "output_type": "stream",
     "text": [
      "The file 'file_to_send.txt' was not found!\n"
     ]
    }
   ],
   "source": [
    "import socket\n",
    "\n",
    "# client setup\n",
    "client_socket = socket.socket(socket.AF_INET, socket.SOCK_STREAM)\n",
    "client_socket.connect(('localhost', 65432))\n",
    "\n",
    "# specify the file you want to send\n",
    "file_path = 'file_to_send.txt'  # Make sure the file exists in the same directory\n",
    "\n",
    "try:\n",
    "    with open(file_path, 'rb') as f:\n",
    "        # Read the file in chunks and send it\n",
    "        while True:\n",
    "            data = f.read(1024)  # Read 1KB at a time\n",
    "            if not data:\n",
    "                break  # End of file reached\n",
    "            client_socket.send(data)  # Send the chunk\n",
    "        print(\"File sent successfully!\")\n",
    "except FileNotFoundError:\n",
    "    print(f\"The file '{file_path}' was not found!\")\n",
    "\n",
    "# close the socket\n",
    "client_socket.close()\n"
   ]
  },
  {
   "cell_type": "code",
   "execution_count": null,
   "metadata": {},
   "outputs": [
    {
     "name": "stdout",
     "output_type": "stream",
     "text": [
      "Received: ACK: lol\n"
     ]
    }
   ],
   "source": [
    "# Exercise 6: TCP-Based Chat System\n",
    "# Client Code:\n",
    "import socket\n",
    "import threading\n",
    "\n",
    "def receive_messages(client_socket):\n",
    "    while True:\n",
    "        data = client_socket.recv(1024)\n",
    "        if not data:\n",
    "            break\n",
    "        print(f\"Received: {data.decode()}\")\n",
    "\n",
    "# client setup\n",
    "client_socket = socket.socket(socket.AF_INET, socket.SOCK_STREAM)\n",
    "client_socket.connect(('localhost', 65432))\n",
    "\n",
    "# start a thread for receiving messages\n",
    "threading.Thread(target=receive_messages, args=(client_socket,)).start()\n",
    "\n",
    "# send messages\n",
    "while True:\n",
    "    message = input(\"Enter message: \")\n",
    "    client_socket.sendall(message.encode())"
   ]
  },
  {
   "cell_type": "code",
   "execution_count": 6,
   "metadata": {},
   "outputs": [],
   "source": [
    "# Exercise 8: Fetch Weather Data\n",
    "import socket\n",
    "import requests\n",
    "\n",
    "# fetch weather data\n",
    "api_url = \"https://api.open-meteo.com/v1/forecast?latitude=51.47&longitude=0.0363&current_weather=true\"\n",
    "response = requests.get(api_url)\n",
    "weather_data = response.text\n",
    "\n",
    "# send data over TCP\n",
    "client_socket = socket.socket(socket.AF_INET, socket.SOCK_STREAM)\n",
    "client_socket.connect(('localhost', 65432))\n",
    "client_socket.sendall(weather_data.encode())\n",
    "client_socket.close()"
   ]
  }
 ],
 "metadata": {
  "kernelspec": {
   "display_name": "base",
   "language": "python",
   "name": "python3"
  },
  "language_info": {
   "codemirror_mode": {
    "name": "ipython",
    "version": 3
   },
   "file_extension": ".py",
   "mimetype": "text/x-python",
   "name": "python",
   "nbconvert_exporter": "python",
   "pygments_lexer": "ipython3",
   "version": "3.12.4"
  }
 },
 "nbformat": 4,
 "nbformat_minor": 2
}
