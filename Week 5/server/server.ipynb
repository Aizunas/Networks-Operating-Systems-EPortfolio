{
 "cells": [
  {
   "cell_type": "code",
   "execution_count": null,
   "metadata": {},
   "outputs": [
    {
     "name": "stdout",
     "output_type": "stream",
     "text": [
      "TCP Server is listening...\n",
      "Connected to ('127.0.0.1', 59478)\n",
      "Received: {\"latitude\":51.48,\"longitude\":0.03999996,\"generationtime_ms\":0.032782554626464844,\"utc_offset_seconds\":0,\"timezone\":\"GMT\",\"timezone_abbreviation\":\"GMT\",\"elevation\":55.0,\"current_weather_units\":{\"time\":\"iso8601\",\"interval\":\"seconds\",\"temperature\":\"°C\",\"windspeed\":\"km/h\",\"winddirection\":\"°\",\"is_day\":\"\",\"weathercode\":\"wmo code\"},\"current_weather\":{\"time\":\"2025-03-20T00:00\",\"interval\":900,\"temperature\":9.8,\"windspeed\":2.9,\"winddirection\":83,\"is_day\":0,\"weathercode\":2}}\n",
      "Connected to ('127.0.0.1', 59483)\n",
      "Received: lol\n"
     ]
    }
   ],
   "source": [
    "# Building a Simple TCP Server\n",
    "import socket\n",
    "\n",
    "# create a TCP socket\n",
    "server_socket = socket.socket(socket.AF_INET, socket.SOCK_STREAM)\n",
    "server_socket.bind(('localhost', 65432))\n",
    "server_socket.listen(1)  # 1 pending connection\n",
    "\n",
    "print(\"TCP Server is listening...\")\n",
    "\n",
    "while True:\n",
    "    client_socket, client_address = server_socket.accept()\n",
    "    print(f\"Connected to {client_address}\")\n",
    "    data = client_socket.recv(1024)\n",
    "    print(f\"Received: {data.decode()}\")\n",
    "    # Echo back the data\n",
    "    client_socket.sendall(b\"ACK: \" + data)\n",
    "    client_socket.close()"
   ]
  },
  {
   "cell_type": "code",
   "execution_count": null,
   "metadata": {},
   "outputs": [
    {
     "name": "stdout",
     "output_type": "stream",
     "text": [
      "UDP Server is listening...\n",
      "Received from ('127.0.0.1', 59361): byee\n"
     ]
    }
   ],
   "source": [
    "# Exercise 2: Send Data Using UDP\n",
    "# UDP Server:\n",
    "import socket\n",
    "\n",
    "server_socket = socket.socket(socket.AF_INET, socket.SOCK_DGRAM)\n",
    "server_socket.bind(('localhost', 65432))\n",
    "\n",
    "print(\"UDP Server is listening...\")\n",
    "\n",
    "while True:\n",
    "    data, client_address = server_socket.recvfrom(1024)\n",
    "    print(f\"Received from {client_address}: {data.decode()}\")\n",
    "    server_socket.sendto(b\"ACK: \" + data, client_address)"
   ]
  },
  {
   "cell_type": "code",
   "execution_count": null,
   "metadata": {},
   "outputs": [
    {
     "name": "stdout",
     "output_type": "stream",
     "text": [
      "TCP Server is listening...\n"
     ]
    }
   ],
   "source": [
    "# Exercise 3: Log Data in a TXT File\n",
    "import socket\n",
    "\n",
    "# create a TCP socket\n",
    "server_socket = socket.socket(socket.AF_INET, socket.SOCK_STREAM)\n",
    "server_socket.bind(('localhost', 65432))\n",
    "server_socket.listen(1)\n",
    "\n",
    "print(\"TCP Server is listening...\")\n",
    "\n",
    "while True:\n",
    "    client_socket, client_address = server_socket.accept()\n",
    "    print(f\"Connected to {client_address}\")\n",
    "\n",
    "    with open('received_file.txt', 'ab') as f:  # Append to file\n",
    "        while True:\n",
    "            data = client_socket.recv(1024)\n",
    "            if not data:\n",
    "                break\n",
    "            f.write(data)\n",
    "            print(f\"Received: {data.decode()}\")\n",
    "\n",
    "    print(\"File received!\")\n",
    "    client_socket.close()"
   ]
  },
  {
   "cell_type": "code",
   "execution_count": null,
   "metadata": {},
   "outputs": [
    {
     "name": "stdout",
     "output_type": "stream",
     "text": [
      "TCP Server is listening...\n",
      "Connected to ('127.0.0.1', 59006)\n",
      "File received!\n",
      "Connected to ('127.0.0.1', 59030)\n",
      "File received!\n",
      "Connected to ('127.0.0.1', 59058)\n",
      "File received!\n",
      "Connected to ('127.0.0.1', 59072)\n",
      "File received!\n",
      "Connected to ('127.0.0.1', 59089)\n",
      "File received!\n",
      "Connected to ('127.0.0.1', 59096)\n",
      "File received!\n",
      "Connected to ('127.0.0.1', 59097)\n",
      "File received!\n",
      "Connected to ('127.0.0.1', 59102)\n",
      "File received!\n",
      "Connected to ('127.0.0.1', 59113)\n",
      "File received!\n",
      "Connected to ('127.0.0.1', 59137)\n",
      "File received!\n",
      "Connected to ('127.0.0.1', 59148)\n",
      "File received!\n",
      "Connected to ('127.0.0.1', 59166)\n"
     ]
    }
   ],
   "source": [
    "# Exercise 4: File Transfer Over TCP\n",
    "# Server Code:\n",
    "import socket\n",
    "\n",
    "# create a TCP socket\n",
    "server_socket = socket.socket(socket.AF_INET, socket.SOCK_STREAM)\n",
    "server_socket.bind(('localhost', 65432))\n",
    "server_socket.listen(1)\n",
    "\n",
    "print(\"TCP Server is listening...\")\n",
    "\n",
    "while True:\n",
    "    client_socket, client_address = server_socket.accept()\n",
    "    print(f\"Connected to {client_address}\")\n",
    "\n",
    "    with open('received_file.txt', 'wb') as f:\n",
    "        while True:\n",
    "            data = client_socket.recv(1024)\n",
    "            if not data:\n",
    "                break\n",
    "            f.write(data)\n",
    "\n",
    "    print(\"File received!\")\n",
    "    client_socket.close()"
   ]
  },
  {
   "cell_type": "code",
   "execution_count": null,
   "metadata": {},
   "outputs": [
    {
     "name": "stdout",
     "output_type": "stream",
     "text": [
      "TCP Server is listening...\n",
      "Connected to ('127.0.0.1', 59297)\n",
      "Connected to ('127.0.0.1', 59305)\n"
     ]
    }
   ],
   "source": [
    "# Exercise 5: TCP Server with Multiple Clients\n",
    "import socket\n",
    "import threading\n",
    "\n",
    "def handle_client(client_socket, client_address):\n",
    "    print(f\"Connected to {client_address}\")\n",
    "    while True:\n",
    "        data = client_socket.recv(1024)\n",
    "        if not data:\n",
    "            break\n",
    "        print(f\"Received from {client_address}: {data.decode()}\")\n",
    "        client_socket.sendall(b\"ACK: \" + data)\n",
    "    client_socket.close()\n",
    "\n",
    "# create a TCP socket\n",
    "server_socket = socket.socket(socket.AF_INET, socket.SOCK_STREAM)\n",
    "server_socket.bind(('localhost', 65432))\n",
    "server_socket.listen(5)  # Allow multiple connections\n",
    "\n",
    "print(\"TCP Server is listening...\")\n",
    "\n",
    "while True:\n",
    "    client_socket, client_address = server_socket.accept()\n",
    "    threading.Thread(target=handle_client, args=(client_socket, client_address)).start()\n"
   ]
  },
  {
   "cell_type": "code",
   "execution_count": null,
   "metadata": {},
   "outputs": [
    {
     "name": "stdout",
     "output_type": "stream",
     "text": [
      "TCP Chat Server is listening...\n",
      "Connected to ('127.0.0.1', 59364)\n"
     ]
    }
   ],
   "source": [
    "# Exercise 6: TCP-Based Chat System\n",
    "# Server Code:\n",
    "import socket\n",
    "import threading\n",
    "\n",
    "clients = []\n",
    "\n",
    "def broadcast(message, sender_socket):\n",
    "    for client in clients:\n",
    "        if client != sender_socket:\n",
    "            client.sendall(message)\n",
    "\n",
    "def handle_client(client_socket, client_address):\n",
    "    print(f\"Connected to {client_address}\")\n",
    "    clients.append(client_socket)\n",
    "    while True:\n",
    "        data = client_socket.recv(1024)\n",
    "        if not data:\n",
    "            break\n",
    "        broadcast(data, client_socket)\n",
    "    client_socket.close()\n",
    "    clients.remove(client_socket)\n",
    "\n",
    "server_socket = socket.socket(socket.AF_INET, socket.SOCK_STREAM)\n",
    "server_socket.bind(('localhost', 65432))\n",
    "server_socket.listen(5)\n",
    "\n",
    "print(\"TCP Chat Server is listening...\")\n",
    "\n",
    "while True:\n",
    "    client_socket, client_address = server_socket.accept()\n",
    "    threading.Thread(target=handle_client, args=(client_socket, client_address)).start()"
   ]
  },
  {
   "cell_type": "code",
   "execution_count": 1,
   "metadata": {},
   "outputs": [
    {
     "name": "stdout",
     "output_type": "stream",
     "text": [
      "Requirement already satisfied: cryptography in /Users/sj/miniconda3/lib/python3.12/site-packages (42.0.5)\n",
      "Requirement already satisfied: cffi>=1.12 in /Users/sj/miniconda3/lib/python3.12/site-packages (from cryptography) (1.16.0)\n",
      "Requirement already satisfied: pycparser in /Users/sj/miniconda3/lib/python3.12/site-packages (from cffi>=1.12->cryptography) (2.21)\n",
      "Note: you may need to restart the kernel to use updated packages.\n"
     ]
    }
   ],
   "source": [
    "# Exercise 7: Add Encryption\n",
    "%pip install cryptography"
   ]
  },
  {
   "cell_type": "code",
   "execution_count": 2,
   "metadata": {},
   "outputs": [
    {
     "name": "stdout",
     "output_type": "stream",
     "text": [
      "Encrypted: b'gAAAAABn21sMYmEaOenLMLeUGyw4AFBazu4ZuJvL2oQ5L4elSt-Ve79ePWNiQAWZavj2-gkbZU9Ieyw4nEOLcTkJUcgHMHJ4MQ=='\n",
      "Decrypted: Hello, World!\n"
     ]
    }
   ],
   "source": [
    "# Exercise 7: Add Encryption\n",
    "from cryptography.fernet import Fernet\n",
    "\n",
    "# generate a key\n",
    "key = Fernet.generate_key()\n",
    "cipher = Fernet(key)\n",
    "\n",
    "# encrypt a message\n",
    "message = b\"Hello, World!\"\n",
    "encrypted_message = cipher.encrypt(message)\n",
    "print(f\"Encrypted: {encrypted_message}\")\n",
    "\n",
    "# decrypt the message\n",
    "decrypted_message = cipher.decrypt(encrypted_message)\n",
    "print(f\"Decrypted: {decrypted_message.decode()}\")"
   ]
  }
 ],
 "metadata": {
  "kernelspec": {
   "display_name": "base",
   "language": "python",
   "name": "python3"
  },
  "language_info": {
   "codemirror_mode": {
    "name": "ipython",
    "version": 3
   },
   "file_extension": ".py",
   "mimetype": "text/x-python",
   "name": "python",
   "nbconvert_exporter": "python",
   "pygments_lexer": "ipython3",
   "version": "3.12.4"
  }
 },
 "nbformat": 4,
 "nbformat_minor": 2
}
