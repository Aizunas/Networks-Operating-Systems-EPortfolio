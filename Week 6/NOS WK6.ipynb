{
 "cells": [
  {
   "cell_type": "code",
   "execution_count": 1,
   "metadata": {},
   "outputs": [
    {
     "name": "stdout",
     "output_type": "stream",
     "text": [
      "Address: 192.168.1.1\n",
      "Network: 192.168.1.0/24\n",
      "Netmask: 255.255.255.0\n",
      "Is private: True\n",
      "Is global: False\n"
     ]
    }
   ],
   "source": [
    "# Code Example: Analyze IP Address\n",
    "import ipaddress\n",
    "\n",
    "def analyze_ip(ip_str):\n",
    "    # create an IP interface object\n",
    "    ip = ipaddress.ip_interface(ip_str)\n",
    "\n",
    "    print(f\"Address: {ip.ip}\")\n",
    "    print(f\"Network: {ip.network}\")\n",
    "    print(f\"Netmask: {ip.netmask}\")\n",
    "    print(f\"Is private: {ip.ip.is_private}\")\n",
    "    print(f\"Is global: {ip.ip.is_global}\")\n",
    "\n",
    "    # list all hosts in the network \n",
    "    if ip.network.num_addresses < 256:\n",
    "        print(\"\\nHosts in network:\")\n",
    "        for host in ip.network.hosts():\n",
    "            print(host)\n",
    "\n",
    "# example \n",
    "analyze_ip('192.168.1.1/24')\n",
    "\n",
    "\n"
   ]
  },
  {
   "cell_type": "code",
   "execution_count": 2,
   "metadata": {},
   "outputs": [
    {
     "name": "stdout",
     "output_type": "stream",
     "text": [
      "Address: 192.168.1.1\n",
      "Network: 192.168.1.0/24\n",
      "Netmask: 255.255.255.0\n",
      "Broadcast Address: 192.168.1.255\n",
      "First Usable Host: 192.168.1.1\n",
      "Last Usable Host: 192.168.1.254\n",
      "Number of Usable Hosts: 254\n",
      "Is private: True\n",
      "Is global: False\n"
     ]
    }
   ],
   "source": [
    "# Exercise 1: Extend the Script\n",
    "\n",
    "def analyze_ip_extended(ip_str):\n",
    "    ip = ipaddress.ip_interface(ip_str)\n",
    "    network = ip.network\n",
    "\n",
    "    print(f\"Address: {ip.ip}\")\n",
    "    print(f\"Network: {network}\")\n",
    "    print(f\"Netmask: {ip.netmask}\")\n",
    "    print(f\"Broadcast Address: {network.broadcast_address}\")\n",
    "    print(f\"First Usable Host: {network.network_address + 1}\")\n",
    "    print(f\"Last Usable Host: {network.broadcast_address - 1}\")\n",
    "    print(f\"Number of Usable Hosts: {network.num_addresses - 2}\")\n",
    "    print(f\"Is private: {ip.ip.is_private}\")\n",
    "    print(f\"Is global: {ip.ip.is_global}\")\n",
    "\n",
    "# example usage\n",
    "analyze_ip_extended('192.168.1.1/24')"
   ]
  },
  {
   "cell_type": "code",
   "execution_count": 3,
   "metadata": {},
   "outputs": [
    {
     "name": "stdout",
     "output_type": "stream",
     "text": [
      "Your Computer Name is: Mac\n",
      "Your Computer IP Address is: 192.168.0.33\n",
      "Address: 192.168.0.33\n",
      "Network: 192.168.0.0/24\n",
      "Netmask: 255.255.255.0\n",
      "Broadcast Address: 192.168.0.255\n",
      "First Usable Host: 192.168.0.1\n",
      "Last Usable Host: 192.168.0.254\n",
      "Number of Usable Hosts: 254\n",
      "Is private: True\n",
      "Is global: False\n"
     ]
    }
   ],
   "source": [
    "# Exercise 2: Analyze IP Address\n",
    "\n",
    "import socket\n",
    "import ipaddress\n",
    "\n",
    "# get the device's IP address\n",
    "hostname = socket.gethostname()\n",
    "ip_addr = socket.gethostbyname(hostname)\n",
    "\n",
    "print(f\"Your Computer Name is: {hostname}\")\n",
    "print(f\"Your Computer IP Address is: {ip_addr}\")\n",
    "\n",
    "# analyze the IP address\n",
    "analyze_ip_extended(f\"{ip_addr}/24\")"
   ]
  },
  {
   "cell_type": "code",
   "execution_count": 4,
   "metadata": {},
   "outputs": [
    {
     "name": "stdout",
     "output_type": "stream",
     "text": [
      "University Website IP Address: 159.100.136.66\n",
      "Address: 159.100.136.66\n",
      "Network: 159.100.136.0/24\n",
      "Netmask: 255.255.255.0\n",
      "Broadcast Address: 159.100.136.255\n",
      "First Usable Host: 159.100.136.1\n",
      "Last Usable Host: 159.100.136.254\n",
      "Number of Usable Hosts: 254\n",
      "Is private: False\n",
      "Is global: True\n"
     ]
    }
   ],
   "source": [
    "# Exercise 3: Analyze University Website IP Address\n",
    "\n",
    "import socket\n",
    "import ipaddress\n",
    "\n",
    "# get the university website's IP address\n",
    "university_host = \"www.gold.ac.uk\"\n",
    "university_ip = socket.gethostbyname(university_host)\n",
    "\n",
    "print(f\"University Website IP Address: {university_ip}\")\n",
    "\n",
    "# analyze the IP address\n",
    "analyze_ip_extended(f\"{university_ip}/24\")"
   ]
  },
  {
   "cell_type": "code",
   "execution_count": 5,
   "metadata": {},
   "outputs": [
    {
     "name": "stdout",
     "output_type": "stream",
     "text": [
      "Engineering Subnet: 172.16.0.0/27\n",
      "Marketing Subnet: 172.16.0.16/28\n",
      "Finance Subnet: 172.16.0.32/28\n",
      "HR Subnet: 172.16.0.24/29\n"
     ]
    }
   ],
   "source": [
    "# Exercise 4: Subnetting Plan\n",
    "def create_subnetting_plan():\n",
    "    network = ipaddress.ip_network(\"172.16.0.0/16\")\n",
    "\n",
    "    # subnets for each department\n",
    "    engineering = list(network.subnets(new_prefix=27))[0]  # 30 hosts\n",
    "    marketing = list(network.subnets(new_prefix=28))[1]    # 15 hosts\n",
    "    finance = list(network.subnets(new_prefix=28))[2]      # 10 hosts\n",
    "    hr = list(network.subnets(new_prefix=29))[3]           # 5 hosts\n",
    "\n",
    "    print(\"Engineering Subnet:\", engineering)\n",
    "    print(\"Marketing Subnet:\", marketing)\n",
    "    print(\"Finance Subnet:\", finance)\n",
    "    print(\"HR Subnet:\", hr)\n",
    "\n",
    "# example \n",
    "create_subnetting_plan()"
   ]
  },
  {
   "cell_type": "code",
   "execution_count": 6,
   "metadata": {},
   "outputs": [
    {
     "name": "stdout",
     "output_type": "stream",
     "text": [
      "== Simple DHCP Simulation ==\n",
      "\n",
      "[CLIENT] Step 1: Sending DHCP DISCOVER\n",
      "\n",
      "[SERVER] Step 2: Making DHCP OFFER\n",
      "\n",
      "[CLIENT] Step 3: Sending DHCP REQUEST\n",
      "\n",
      "[SERVER] Step 4: Sending DHCP ACK\n",
      "\n",
      "== Result ===\n",
      "Client AA:BB:CC:DD:EE:FF got IP: 192.168.1.100\n",
      "Server leases: {'AA:BB:CC:DD:EE:FF': '192.168.1.100'}\n"
     ]
    }
   ],
   "source": [
    "# Code Example: Simulate DHCP Operations\n",
    "\n",
    "# Simplified DHCP Simulator\n",
    "\n",
    "# server configuration\n",
    "server = {\n",
    "    \"ip_pool\": [\"192.168.1.100\", \"192.168.1.101\", \"192.168.1.102\"],\n",
    "    \"leases\": {}\n",
    "}\n",
    "\n",
    "# client configuration\n",
    "client = {\n",
    "    \"mac\": \"AA:BB:CC:DD:EE:FF\",\n",
    "    \"ip\": None\n",
    "}\n",
    "\n",
    "def send_discover():\n",
    "    print(\"\\n[CLIENT] Step 1: Sending DHCP DISCOVER\")\n",
    "    return {\n",
    "        \"type\": \"DISCOVER\",\n",
    "        \"mac\": client[\"mac\"]\n",
    "    }\n",
    "\n",
    "def make_offer(discover):\n",
    "    print(\"\\n[SERVER] Step 2: Making DHCP OFFER\")\n",
    "    if not server[\"ip_pool\"]:\n",
    "        print(\"No IPs available!\")\n",
    "        return None\n",
    "\n",
    "    offered_ip = server[\"ip_pool\"].pop(0)\n",
    "    return {\n",
    "        \"type\": \"OFFER\",\n",
    "        \"mac\": discover[\"mac\"],\n",
    "        \"ip\": offered_ip\n",
    "    }\n",
    "\n",
    "def send_request(offer):\n",
    "    print(\"\\n[CLIENT] Step 3: Sending DHCP REQUEST\")\n",
    "    return {\n",
    "        \"type\": \"REQUEST\",\n",
    "        \"mac\": offer[\"mac\"],\n",
    "        \"ip\": offer[\"ip\"]\n",
    "    }\n",
    "\n",
    "def send_ack(request):\n",
    "    print(\"\\n[SERVER] Step 4: Sending DHCP ACK\")\n",
    "    server[\"leases\"][request[\"mac\"]] = request[\"ip\"]\n",
    "    return {\n",
    "        \"type\": \"ACK\",\n",
    "        \"mac\": request[\"mac\"],\n",
    "        \"ip\": request[\"ip\"]\n",
    "    }\n",
    "\n",
    "def main():\n",
    "    print(\"== Simple DHCP Simulation ==\")\n",
    "\n",
    "    # client starts process\n",
    "    discover = send_discover()\n",
    "\n",
    "    # server responds\n",
    "    offer = make_offer(discover)\n",
    "    if not offer:\n",
    "        return\n",
    "\n",
    "    # client continues\n",
    "    request = send_request(offer)\n",
    "\n",
    "    # server finalizes\n",
    "    ack = send_ack(request)\n",
    "\n",
    "    # update client IP\n",
    "    client[\"ip\"] = ack[\"ip\"]\n",
    "\n",
    "    print(\"\\n== Result ===\")\n",
    "    print(f\"Client {client['mac']} got IP: {client['ip']}\")\n",
    "    print(\"Server leases:\", server[\"leases\"])\n",
    "\n",
    "if __name__ == \"__main__\":\n",
    "    main()"
   ]
  }
 ],
 "metadata": {
  "kernelspec": {
   "display_name": "base",
   "language": "python",
   "name": "python3"
  },
  "language_info": {
   "codemirror_mode": {
    "name": "ipython",
    "version": 3
   },
   "file_extension": ".py",
   "mimetype": "text/x-python",
   "name": "python",
   "nbconvert_exporter": "python",
   "pygments_lexer": "ipython3",
   "version": "3.12.4"
  }
 },
 "nbformat": 4,
 "nbformat_minor": 2
}
