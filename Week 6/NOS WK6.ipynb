{
 "cells": [
  {
   "cell_type": "code",
   "execution_count": 17,
   "metadata": {},
   "outputs": [],
   "source": [
    "import ipaddress \n",
    "import socket\n",
    "\n",
    "def analyse_ip(ip_str):\n",
    "    # Create an IP interface object\n",
    "    ip = ipaddress.ip_interface(ip_str)\n",
    "\n",
    "    #Network info\n",
    "    network = ip.network \n",
    "    # v This calculates the num of hosts excludes the network and the broadcasting\n",
    "    num_hosts = network.num_addresses - 2 \n",
    "\n",
    "    # Hosts address (first and last)\n",
    "    first_host = None\n",
    "    last_host = None\n",
    "    if num_hosts > 0:\n",
    "        first_host = list(network.hosts)\n",
    "        last_host = list(network.hosts)\n",
    "\n",
    "\n",
    "    print(f\"Address: {ip.ip}\")\n",
    "    print(f\"Network: {ip.network}\")\n",
    "    print(f\"Netmask: {ip.netmask}\")\n",
    "    print(f\"Broadcast Address: {network.broadcast_address}\")\n",
    "    print(f\"First Usable Host: {first_host}\")\n",
    "    print(f\"Last Usable Host: {last_host}\")\n",
    "    print(f\"Number of Usable Hosts: {num_hosts}\")\n",
    "    print(f\"Is private: {ip.ip.is_private}\")\n",
    "    print(f\"Is global: {ip.ip.is_global}\")\n",
    "    \n",
    "    # List all hosts in the network\n",
    "    if ip.network.num_addresses < 255: # Only for small networks\n",
    "        print(\"\\nHOsts is network:\")\n",
    "        for host in ip.network.hosts():\n",
    "            print(host)\n",
    "\n",
    "    # Only for small networks\n",
    "    analyse_ip('192.168.1.1')\n",
    "\n",
    "\n",
    "\n"
   ]
  }
 ],
 "metadata": {
  "kernelspec": {
   "display_name": "base",
   "language": "python",
   "name": "python3"
  },
  "language_info": {
   "codemirror_mode": {
    "name": "ipython",
    "version": 3
   },
   "file_extension": ".py",
   "mimetype": "text/x-python",
   "name": "python",
   "nbconvert_exporter": "python",
   "pygments_lexer": "ipython3",
   "version": "3.12.4"
  }
 },
 "nbformat": 4,
 "nbformat_minor": 2
}
