{
 "cells": [
  {
   "cell_type": "code",
   "execution_count": null,
   "metadata": {},
   "outputs": [
    {
     "name": "stdout",
     "output_type": "stream",
     "text": [
      "UDP Server is ready to receive API data...\n"
     ]
    }
   ],
   "source": [
    "# Building a Simple UDP Server\n",
    "import socket\n",
    "\n",
    "# create a UDP socket\n",
    "server_socket = socket.socket(socket.AF_INET, socket.SOCK_DGRAM)\n",
    "server_socket.bind(('localhost', 65433))\n",
    "\n",
    "print(\"UDP Server is ready to receive API data...\")\n",
    "\n",
    "while True:\n",
    "    data, client_address = server_socket.recvfrom(2048)\n",
    "    print(f\"Received data from {client_address}: {data.decode()}\")"
   ]
  },
  {
   "cell_type": "code",
   "execution_count": null,
   "metadata": {},
   "outputs": [],
   "source": [
    "#  Building a Simple UDP Client\n",
    "import socket\n",
    "\n",
    "\n",
    "client_socket = socket.socket(socket.AF_INET, socket.SOCK_DGRAM)\n",
    "\n",
    "server_address = ('localhost', 65433)\n",
    "message = b\"Hello, UDP Server!\"\n",
    "\n",
    "# send message to the server\n",
    "client_socket.sendto(message, server_address)\n",
    "\n",
    "client_socket.close()"
   ]
  },
  {
   "cell_type": "code",
   "execution_count": null,
   "metadata": {},
   "outputs": [],
   "source": [
    "# Exercise 1: UDP Chat Application\n",
    "# Server Code:\n",
    "import socket\n",
    "\n",
    "\n",
    "server_socket = socket.socket(socket.AF_INET, socket.SOCK_DGRAM)\n",
    "server_socket.bind(('localhost', 65433))\n",
    "\n",
    "print(\"UDP Chat Server is ready to receive messages...\")\n",
    "\n",
    "while True:\n",
    "    data, client_address = server_socket.recvfrom(2048)\n",
    "    print(f\"Received from {client_address}: {data.decode()}\")\n",
    "    # broadcast the message to all clients "
   ]
  },
  {
   "cell_type": "code",
   "execution_count": null,
   "metadata": {},
   "outputs": [],
   "source": [
    "# Exercise 1: UDP Chat Application\n",
    "# Client Code:\n",
    "import socket\n",
    "\n",
    "\n",
    "client_socket = socket.socket(socket.AF_INET, socket.SOCK_DGRAM)\n",
    "\n",
    "server_address = ('localhost', 65433)\n",
    "\n",
    "while True:\n",
    "    message = input(\"Enter message: \")\n",
    "    client_socket.sendto(message.encode(), server_address)\n",
    "    # Receive response \n",
    "    data, _ = client_socket.recvfrom(2048)\n",
    "    print(f\"Received from server: {data.decode()}\")"
   ]
  },
  {
   "cell_type": "code",
   "execution_count": null,
   "metadata": {},
   "outputs": [],
   "source": [
    "# Exercise 2: Dictionary of User IP Addresses\n",
    "# Server Code:\n",
    "import socket\n",
    "\n",
    "# create a UDP socket\n",
    "server_socket = socket.socket(socket.AF_INET, socket.SOCK_DGRAM)\n",
    "server_socket.bind(('localhost', 65433))\n",
    "\n",
    "print(\"UDP Server is ready to receive messages...\")\n",
    "\n",
    "users = {}  # dictionary to store user IP addy\n",
    "\n",
    "while True:\n",
    "    data, client_address = server_socket.recvfrom(2048)\n",
    "    users[client_address] = data.decode()  # store user message\n",
    "    print(f\"Users: {users}\")"
   ]
  },
  {
   "cell_type": "code",
   "execution_count": null,
   "metadata": {},
   "outputs": [],
   "source": [
    "# Exercise 3: Authentication\n",
    "# Server Code:\n",
    "import socket\n",
    "\n",
    "\n",
    "server_socket = socket.socket(socket.AF_INET, socket.SOCK_DGRAM)\n",
    "server_socket.bind(('localhost', 65433))\n",
    "\n",
    "print(\"UDP Server is ready to receive messages...\")\n",
    "\n",
    "# credentials for demonstration\n",
    "valid_username = \"user\"\n",
    "valid_password = \"pass\"\n",
    "\n",
    "while True:\n",
    "    # receive username\n",
    "    username, client_address = server_socket.recvfrom(2048)\n",
    "    username = username.decode()\n",
    "\n",
    "    # receive password\n",
    "    server_socket.sendto(b\"Enter password:\", client_address)\n",
    "    password, _ = server_socket.recvfrom(2048)\n",
    "    password = password.decode()\n",
    "\n",
    "    # validate credentials\n",
    "    if username == valid_username and password == valid_password:\n",
    "        server_socket.sendto(b\"Authentication successful!\", client_address)\n",
    "    else:\n",
    "        server_socket.sendto(b\"Authentication failed!\", client_address)"
   ]
  },
  {
   "cell_type": "code",
   "execution_count": null,
   "metadata": {},
   "outputs": [],
   "source": [
    "# Exercise 3: Authentication\n",
    "# Client Code:\n",
    "import socket\n",
    "\n",
    "\n",
    "client_socket = socket.socket(socket.AF_INET, socket.SOCK_DGRAM)\n",
    "\n",
    "server_address = ('localhost', 65433)\n",
    "\n",
    "# send username\n",
    "username = input(\"Enter username: \")\n",
    "client_socket.sendto(username.encode(), server_address)\n",
    "\n",
    "# receive password prompt\n",
    "data, _ = client_socket.recvfrom(2048)\n",
    "print(data.decode())\n",
    "\n",
    "# send password\n",
    "password = input(\"Enter password: \")\n",
    "client_socket.sendto(password.encode(), server_address)\n",
    "\n",
    "# receive authentication result\n",
    "data, _ = client_socket.recvfrom(2048)\n",
    "print(data.decode())\n",
    "\n",
    "client_socket.close()"
   ]
  },
  {
   "cell_type": "code",
   "execution_count": null,
   "metadata": {},
   "outputs": [],
   "source": [
    "# Exercise 4: Encrypt Messages\n",
    "pip install cryptography"
   ]
  },
  {
   "cell_type": "code",
   "execution_count": null,
   "metadata": {},
   "outputs": [],
   "source": [
    "# Exercise 4: Encrypt Messages\n",
    "# Client Code:\n",
    "from cryptography.fernet import Fernet\n",
    "import socket\n",
    "\n",
    "# generate a key\n",
    "key = Fernet.generate_key()\n",
    "cipher = Fernet(key)\n",
    "\n",
    "# create a UDP socket\n",
    "client_socket = socket.socket(socket.AF_INET, socket.SOCK_DGRAM)\n",
    "\n",
    "server_address = ('localhost', 65433)\n",
    "\n",
    "# encrypt message\n",
    "message = input(\"Enter message: \")\n",
    "encrypted_message = cipher.encrypt(message.encode())\n",
    "\n",
    "# send encrypted message\n",
    "client_socket.sendto(encrypted_message, server_address)\n",
    "\n",
    "client_socket.close()"
   ]
  },
  {
   "cell_type": "code",
   "execution_count": null,
   "metadata": {},
   "outputs": [],
   "source": [
    "# Exercise 4: Encrypt Messages\n",
    "# Server Code:\n",
    "from cryptography.fernet import Fernet\n",
    "import socket\n",
    "\n",
    "# use the same key as the client\n",
    "key = b\"...\"  # replace with the key generated by the client\n",
    "cipher = Fernet(key)\n",
    "\n",
    "# create a UDP socket\n",
    "server_socket = socket.socket(socket.AF_INET, socket.SOCK_DGRAM)\n",
    "server_socket.bind(('localhost', 65433))\n",
    "\n",
    "print(\"UDP Server is ready to receive encrypted messages...\")\n",
    "\n",
    "while True:\n",
    "    data, client_address = server_socket.recvfrom(2048)\n",
    "    decrypted_message = cipher.decrypt(data)\n",
    "    print(f\"Received from {client_address}: {decrypted_message.decode()}\")"
   ]
  },
  {
   "cell_type": "code",
   "execution_count": null,
   "metadata": {},
   "outputs": [],
   "source": [
    "# Exercise 5: Compare Temperatures\n",
    "import socket\n",
    "import requests\n",
    "\n",
    "# fetch weather data for Goldsmiths University\n",
    "api_url_goldsmiths = \"https://api.open-meteo.com/v1/forecast?latitude=51.47&longitude=0.0363&current_weather=true\"\n",
    "response_goldsmiths = requests.get(api_url_goldsmiths)\n",
    "\n",
    "# fetch weather data for the British Library\n",
    "api_url_british_library = \"https://api.open-meteo.com/v1/forecast?latitude=51.53&longitude=0.1276&current_weather=true\"\n",
    "response_british_library = requests.get(api_url_british_library)\n",
    "\n",
    "if response_goldsmiths.status_code == 200 and response_british_library.status_code == 200:\n",
    "    temp_goldsmiths = response_goldsmiths.json()[\"current_weather\"][\"temperature\"]\n",
    "    temp_british_library = response_british_library.json()[\"current_weather\"][\"temperature\"]\n",
    "    message = f\"Temperature at Goldsmiths: {temp_goldsmiths}°C\\nTemperature at British Library: {temp_british_library}°C\"\n",
    "else:\n",
    "    message = \"Failed to fetch weather data\"\n",
    "\n",
    "# send the weather data using UDP\n",
    "client_socket = socket.socket(socket.AF_INET, socket.SOCK_DGRAM)\n",
    "server_address = ('localhost', 65433)\n",
    "\n",
    "client_socket.sendto(message.encode(), server_address)\n",
    "print(\"Weather data sent!\")\n",
    "\n",
    "client_socket.close()\n"
   ]
  }
 ],
 "metadata": {
  "kernelspec": {
   "display_name": "base",
   "language": "python",
   "name": "python3"
  },
  "language_info": {
   "codemirror_mode": {
    "name": "ipython",
    "version": 3
   },
   "file_extension": ".py",
   "mimetype": "text/x-python",
   "name": "python",
   "nbconvert_exporter": "python",
   "pygments_lexer": "ipython3",
   "version": "3.12.4"
  }
 },
 "nbformat": 4,
 "nbformat_minor": 2
}
