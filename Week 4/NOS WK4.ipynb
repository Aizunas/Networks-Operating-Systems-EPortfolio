{
 "cells": [
  {
   "cell_type": "code",
   "execution_count": null,
   "metadata": {},
   "outputs": [
    {
     "name": "stdout",
     "output_type": "stream",
     "text": [
      "UDP Server is running...\n"
     ]
    }
   ],
   "source": [
    "import socket\n",
    "from cryptography.fernet import Fernet\n",
    "\n",
    "# Store valid users (username: password)\n",
    "users = {\"user1\": \"password123\", \"admin\": \"adminpass\"}\n",
    "\n",
    "# Create and bind the server socket\n",
    "server_socket = socket.socket(socket.AF_INET, socket.SOCK_DGRAM)\n",
    "server_socket.bind(('localhost', 65433))\n",
    "\n",
    "print(\"UDP Server is running...\")\n",
    "\n",
    "while True:\n",
    "    # Receive username and password\n",
    "    username, client_address = server_socket.recvfrom(2048)\n",
    "    password, _ = server_socket.recvfrom(2048)\n",
    "\n",
    "    username = username.decode()\n",
    "    password = password.decode()\n",
    "\n",
    "    # Authenticate user\n",
    "    if username in users and users[username] == password:\n",
    "        server_socket.sendto(b\"Access Granted\", client_address)\n",
    "        print(f\"User {username} connected!\")\n",
    "\n",
    "        # Receive encryption key\n",
    "        key, _ = server_socket.recvfrom(2048)\n",
    "        cipher = Fernet(key)\n",
    "\n",
    "        while True:\n",
    "            # Receive encrypted message\n",
    "            encrypted_message, _ = server_socket.recvfrom(2048)\n",
    "            decrypted_message = cipher.decrypt(encrypted_message).decode()\n",
    "            print(f\"{username}: {decrypted_message}\")\n",
    "\n",
    "            # Send response\n",
    "            reply = input(\"Server: \")\n",
    "            encrypted_reply = cipher.encrypt(reply.encode())\n",
    "            server_socket.sendto(encrypted_reply, client_address)\n",
    "    else:\n",
    "        server_socket.sendto(b\"Access Denied\", client_address)\n"
   ]
  },
  {
   "cell_type": "code",
   "execution_count": null,
   "metadata": {},
   "outputs": [],
   "source": [
    "import socket\n",
    "import requests\n",
    "from cryptography.fernet import Fernet\n",
    "\n",
    "# Create a UDP socket\n",
    "client_socket = socket.socket(socket.AF_INET, socket.SOCK_DGRAM)\n",
    "server_address = ('localhost', 65433)\n",
    "\n",
    "# Input credentials\n",
    "username = input(\"Enter Username: \")\n",
    "password = input(\"Enter Password: \")\n",
    "\n",
    "# Send credentials\n",
    "client_socket.sendto(username.encode(), server_address)\n",
    "client_socket.sendto(password.encode(), server_address)\n",
    "\n",
    "# Receive authentication response\n",
    "response, _ = client_socket.recvfrom(2048)\n",
    "\n",
    "if response.decode() == \"Access Granted\":\n",
    "    print(\"Login successful! Secure chat initiated.\")\n",
    "\n",
    "    # Generate encryption key\n",
    "    key = Fernet.generate_key()\n",
    "    cipher = Fernet(key)\n",
    "\n",
    "    # Send encryption key to server\n",
    "    client_socket.sendto(key, server_address)\n",
    "\n",
    "    while True:\n",
    "        # Fetch weather data\n",
    "        api_url = \"https://api.open-meteo.com/v1/forecast?latitude=51.47&longitude=-0.0363&current_weather=true\"\n",
    "        response = requests.get(api_url)\n",
    "\n",
    "        if response.status_code == 200:\n",
    "            weather_data = response.json()\n",
    "            temperature = weather_data[\"current_weather\"][\"temperature\"]\n",
    "            message = f\"Current temperature: {temperature}°C\"\n",
    "        else:\n",
    "            message = \"Failed to fetch weather data\"\n",
    "\n",
    "        # Encrypt and send message\n",
    "        encrypted_message = cipher.encrypt(message.encode())\n",
    "        client_socket.sendto(encrypted_message, server_address)\n",
    "\n",
    "        # Receive and decrypt server response\n",
    "        encrypted_reply, _ = client_socket.recvfrom(2048)\n",
    "        print(f\"Server: {cipher.decrypt(encrypted_reply).decode()}\")\n",
    "else:\n",
    "    print(\"Login failed. Exiting.\")\n",
    "\n",
    "client_socket.close()\n"
   ]
  },
  {
   "cell_type": "code",
   "execution_count": null,
   "metadata": {},
   "outputs": [],
   "source": []
  }
 ],
 "metadata": {
  "kernelspec": {
   "display_name": "base",
   "language": "python",
   "name": "python3"
  },
  "language_info": {
   "codemirror_mode": {
    "name": "ipython",
    "version": 3
   },
   "file_extension": ".py",
   "mimetype": "text/x-python",
   "name": "python",
   "nbconvert_exporter": "python",
   "pygments_lexer": "ipython3",
   "version": "3.12.4"
  }
 },
 "nbformat": 4,
 "nbformat_minor": 2
}
