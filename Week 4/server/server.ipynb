{
 "cells": [
  {
   "cell_type": "code",
   "execution_count": null,
   "metadata": {},
   "outputs": [
    {
     "name": "stdout",
     "output_type": "stream",
     "text": [
      "UDP Server is ready to receive API data...\n",
      "Received data from ('127.0.0.1', 59227): Hello, UDP Server!\n"
     ]
    }
   ],
   "source": [
    "# Building a Simple UDP Server\n",
    "import socket\n",
    "\n",
    "# create a UDP socket\n",
    "server_socket = socket.socket(socket.AF_INET, socket.SOCK_DGRAM)\n",
    "server_socket.bind(('localhost', 65433))\n",
    "\n",
    "print(\"UDP Server is ready to receive API data...\")\n",
    "\n",
    "while True:\n",
    "    data, client_address = server_socket.recvfrom(2048)\n",
    "    print(f\"Received data from {client_address}: {data.decode()}\")"
   ]
  },
  {
   "cell_type": "code",
   "execution_count": null,
   "metadata": {},
   "outputs": [
    {
     "name": "stdout",
     "output_type": "stream",
     "text": [
      "UDP Chat Server is ready to receive messages...\n",
      "Received from ('127.0.0.1', 63502): Hello from the other side\n"
     ]
    }
   ],
   "source": [
    "# Exercise 1: UDP Chat Application\n",
    "# Server Code:\n",
    "import socket\n",
    "\n",
    "\n",
    "server_socket = socket.socket(socket.AF_INET, socket.SOCK_DGRAM)\n",
    "server_socket.bind(('localhost', 65433))\n",
    "\n",
    "print(\"UDP Chat Server is ready to receive messages...\")\n",
    "\n",
    "while True:\n",
    "    data, client_address = server_socket.recvfrom(2048)\n",
    "    print(f\"Received from {client_address}: {data.decode()}\")\n",
    "    # broadcast the message to all clients "
   ]
  },
  {
   "cell_type": "code",
   "execution_count": null,
   "metadata": {},
   "outputs": [
    {
     "name": "stdout",
     "output_type": "stream",
     "text": [
      "UDP Server is ready to receive messages...\n"
     ]
    }
   ],
   "source": [
    "# Exercise 2: Dictionary of User IP Addresses\n",
    "# Server Code:\n",
    "import socket\n",
    "\n",
    "# create a UDP socket\n",
    "server_socket = socket.socket(socket.AF_INET, socket.SOCK_DGRAM)\n",
    "server_socket.bind(('localhost', 65433))\n",
    "\n",
    "print(\"UDP Server is ready to receive messages...\")\n",
    "\n",
    "users = {}  # dictionary to store user IP addy\n",
    "\n",
    "while True:\n",
    "    data, client_address = server_socket.recvfrom(2048)\n",
    "    users[client_address] = data.decode()  # store user message\n",
    "    print(f\"Users: {users}\")"
   ]
  },
  {
   "cell_type": "code",
   "execution_count": null,
   "metadata": {},
   "outputs": [
    {
     "name": "stdout",
     "output_type": "stream",
     "text": [
      "UDP Server is ready to receive messages...\n"
     ]
    }
   ],
   "source": [
    "# Exercise 3: Authentication\n",
    "# Server Code:\n",
    "import socket\n",
    "\n",
    "\n",
    "server_socket = socket.socket(socket.AF_INET, socket.SOCK_DGRAM)\n",
    "server_socket.bind(('localhost', 65433))\n",
    "\n",
    "print(\"UDP Server is ready to receive messages...\")\n",
    "\n",
    "# credentials for demonstration\n",
    "valid_username = \"user\"\n",
    "valid_password = \"pass\"\n",
    "\n",
    "while True:\n",
    "    # receive username\n",
    "    username, client_address = server_socket.recvfrom(2048)\n",
    "    username = username.decode()\n",
    "\n",
    "    # receive password\n",
    "    server_socket.sendto(b\"Enter password:\", client_address)\n",
    "    password, _ = server_socket.recvfrom(2048)\n",
    "    password = password.decode()\n",
    "\n",
    "    # validate credentials\n",
    "    if username == valid_username and password == valid_password:\n",
    "        server_socket.sendto(b\"Authentication successful!\", client_address)\n",
    "    else:\n",
    "        server_socket.sendto(b\"Authentication failed!\", client_address)"
   ]
  },
  {
   "cell_type": "code",
   "execution_count": 2,
   "metadata": {},
   "outputs": [
    {
     "name": "stdout",
     "output_type": "stream",
     "text": [
      "Requirement already satisfied: cryptography in /Users/sj/miniconda3/lib/python3.12/site-packages (42.0.5)\n",
      "Requirement already satisfied: cffi>=1.12 in /Users/sj/miniconda3/lib/python3.12/site-packages (from cryptography) (1.16.0)\n",
      "Requirement already satisfied: pycparser in /Users/sj/miniconda3/lib/python3.12/site-packages (from cffi>=1.12->cryptography) (2.21)\n",
      "Note: you may need to restart the kernel to use updated packages.\n"
     ]
    }
   ],
   "source": [
    "# Exercise 4: Encrypt Messages\n",
    "%pip install cryptography"
   ]
  },
  {
   "cell_type": "code",
   "execution_count": null,
   "metadata": {},
   "outputs": [
    {
     "name": "stdout",
     "output_type": "stream",
     "text": [
      "UDP Server is ready to receive encrypted messages...\n",
      "Received from ('127.0.0.1', 57831): lol\n"
     ]
    }
   ],
   "source": [
    "# Exercise 4: Encrypt Messages\n",
    "# Server Code:\n",
    "from cryptography.fernet import Fernet\n",
    "import socket\n",
    "\n",
    "# Create a UDP socket\n",
    "server_socket = socket.socket(socket.AF_INET, socket.SOCK_DGRAM)\n",
    "server_socket.bind(('localhost', 65433))\n",
    "\n",
    "print(\"UDP Server is ready to receive encrypted messages...\")\n",
    "\n",
    "while True:\n",
    "    # First, receive the encryption key from the client\n",
    "    key, client_address = server_socket.recvfrom(2048)\n",
    "    cipher = Fernet(key)  # Use the key to create the cipher for decryption\n",
    "\n",
    "    # Receive the encrypted message\n",
    "    encrypted_message, _ = server_socket.recvfrom(2048)\n",
    "\n",
    "    # Decrypt the message\n",
    "    decrypted_message = cipher.decrypt(encrypted_message)\n",
    "    print(f\"Received from {client_address}: {decrypted_message.decode()}\")\n"
   ]
  }
 ],
 "metadata": {
  "kernelspec": {
   "display_name": "base",
   "language": "python",
   "name": "python3"
  },
  "language_info": {
   "codemirror_mode": {
    "name": "ipython",
    "version": 3
   },
   "file_extension": ".py",
   "mimetype": "text/x-python",
   "name": "python",
   "nbconvert_exporter": "python",
   "pygments_lexer": "ipython3",
   "version": "3.12.4"
  }
 },
 "nbformat": 4,
 "nbformat_minor": 2
}
