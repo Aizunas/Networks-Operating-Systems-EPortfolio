{
 "cells": [
  {
   "cell_type": "code",
   "execution_count": 11,
   "metadata": {},
   "outputs": [],
   "source": [
    "#  Building a Simple UDP Client\n",
    "import socket\n",
    "\n",
    "\n",
    "client_socket = socket.socket(socket.AF_INET, socket.SOCK_DGRAM)\n",
    "\n",
    "server_address = ('localhost', 65433)\n",
    "message = b\"Hello, UDP Server!\"\n",
    "\n",
    "# send message to the server\n",
    "client_socket.sendto(message, server_address)\n",
    "\n",
    "client_socket.close()"
   ]
  },
  {
   "cell_type": "code",
   "execution_count": null,
   "metadata": {},
   "outputs": [],
   "source": [
    "# Exercise 1: UDP Chat Application\n",
    "# Client Code:\n",
    "import socket\n",
    "\n",
    "\n",
    "client_socket = socket.socket(socket.AF_INET, socket.SOCK_DGRAM)\n",
    "\n",
    "server_address = ('localhost', 65433)\n",
    "\n",
    "while True:\n",
    "    message = input(\"Enter message: \")\n",
    "    client_socket.sendto(message.encode(), server_address)\n",
    "    # Receive response \n",
    "    data, _ = client_socket.recvfrom(2048)\n",
    "    print(f\"Received from server: {data.decode()}\")"
   ]
  },
  {
   "cell_type": "code",
   "execution_count": 1,
   "metadata": {},
   "outputs": [
    {
     "name": "stdout",
     "output_type": "stream",
     "text": [
      "Enter password:\n",
      "Authentication failed!\n"
     ]
    }
   ],
   "source": [
    "# Exercise 3: Authentication\n",
    "# Client Code:\n",
    "import socket\n",
    "\n",
    "\n",
    "client_socket = socket.socket(socket.AF_INET, socket.SOCK_DGRAM)\n",
    "\n",
    "server_address = ('localhost', 65433)\n",
    "\n",
    "# send username\n",
    "username = input(\"Enter username: \")\n",
    "client_socket.sendto(username.encode(), server_address)\n",
    "\n",
    "# receive password prompt\n",
    "data, _ = client_socket.recvfrom(2048)\n",
    "print(data.decode())\n",
    "\n",
    "# send password\n",
    "password = input(\"Enter password: \")\n",
    "client_socket.sendto(password.encode(), server_address)\n",
    "\n",
    "# receive authentication result\n",
    "data, _ = client_socket.recvfrom(2048)\n",
    "print(data.decode())\n",
    "\n",
    "client_socket.close()"
   ]
  },
  {
   "cell_type": "code",
   "execution_count": 3,
   "metadata": {},
   "outputs": [
    {
     "name": "stdout",
     "output_type": "stream",
     "text": [
      "Requirement already satisfied: cryptography in /Users/sj/miniconda3/lib/python3.12/site-packages (42.0.5)\n",
      "Requirement already satisfied: cffi>=1.12 in /Users/sj/miniconda3/lib/python3.12/site-packages (from cryptography) (1.16.0)\n",
      "Requirement already satisfied: pycparser in /Users/sj/miniconda3/lib/python3.12/site-packages (from cffi>=1.12->cryptography) (2.21)\n",
      "Note: you may need to restart the kernel to use updated packages.\n"
     ]
    }
   ],
   "source": [
    "# Exercise 4: Encrypt Messages\n",
    "%pip install cryptography"
   ]
  },
  {
   "cell_type": "code",
   "execution_count": 9,
   "metadata": {},
   "outputs": [
    {
     "name": "stdout",
     "output_type": "stream",
     "text": [
      "Encrypted message sent!\n"
     ]
    }
   ],
   "source": [
    "# Exercise 4: Encrypt Messages\n",
    "# Client Code:\n",
    "from cryptography.fernet import Fernet\n",
    "import socket\n",
    "\n",
    "# Generate an encryption key\n",
    "key = Fernet.generate_key()\n",
    "cipher = Fernet(key)\n",
    "\n",
    "# Create UDP socket\n",
    "client_socket = socket.socket(socket.AF_INET, socket.SOCK_DGRAM)\n",
    "server_address = ('localhost', 65433)\n",
    "\n",
    "# Encrypt a message\n",
    "message = input(\"Enter message: \")\n",
    "encrypted_message = cipher.encrypt(message.encode())\n",
    "\n",
    "# Send the key first (so server can decrypt)\n",
    "client_socket.sendto(key, server_address)\n",
    "\n",
    "# Now send the encrypted message\n",
    "client_socket.sendto(encrypted_message, server_address)\n",
    "\n",
    "print(\"Encrypted message sent!\")\n",
    "\n",
    "# Close the socket\n",
    "client_socket.close()\n"
   ]
  },
  {
   "cell_type": "code",
   "execution_count": 10,
   "metadata": {},
   "outputs": [
    {
     "name": "stdout",
     "output_type": "stream",
     "text": [
      "Weather data sent!\n"
     ]
    }
   ],
   "source": [
    "# Exercise 5: Compare Temperatures\n",
    "import socket\n",
    "import requests\n",
    "\n",
    "# fetch weather data for Goldsmiths University\n",
    "api_url_goldsmiths = \"https://api.open-meteo.com/v1/forecast?latitude=51.47&longitude=0.0363&current_weather=true\"\n",
    "response_goldsmiths = requests.get(api_url_goldsmiths)\n",
    "\n",
    "# fetch weather data for the British Library\n",
    "api_url_british_library = \"https://api.open-meteo.com/v1/forecast?latitude=51.53&longitude=0.1276&current_weather=true\"\n",
    "response_british_library = requests.get(api_url_british_library)\n",
    "\n",
    "if response_goldsmiths.status_code == 200 and response_british_library.status_code == 200:\n",
    "    temp_goldsmiths = response_goldsmiths.json()[\"current_weather\"][\"temperature\"]\n",
    "    temp_british_library = response_british_library.json()[\"current_weather\"][\"temperature\"]\n",
    "    message = f\"Temperature at Goldsmiths: {temp_goldsmiths}°C\\nTemperature at British Library: {temp_british_library}°C\"\n",
    "else:\n",
    "    message = \"Failed to fetch weather data\"\n",
    "\n",
    "# send the weather data using UDP\n",
    "client_socket = socket.socket(socket.AF_INET, socket.SOCK_DGRAM)\n",
    "server_address = ('localhost', 65433)\n",
    "\n",
    "client_socket.sendto(message.encode(), server_address)\n",
    "print(\"Weather data sent!\")\n",
    "\n",
    "client_socket.close()"
   ]
  }
 ],
 "metadata": {
  "kernelspec": {
   "display_name": "base",
   "language": "python",
   "name": "python3"
  },
  "language_info": {
   "codemirror_mode": {
    "name": "ipython",
    "version": 3
   },
   "file_extension": ".py",
   "mimetype": "text/x-python",
   "name": "python",
   "nbconvert_exporter": "python",
   "pygments_lexer": "ipython3",
   "version": "3.12.4"
  }
 },
 "nbformat": 4,
 "nbformat_minor": 2
}
