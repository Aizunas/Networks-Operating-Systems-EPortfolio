{
 "cells": [
  {
   "cell_type": "code",
   "execution_count": 1,
   "metadata": {},
   "outputs": [
    {
     "name": "stdout",
     "output_type": "stream",
     "text": [
      "The IP address of pinterest.com is 151.101.192.84\n"
     ]
    }
   ],
   "source": [
    "# Finding Website IP Address\n",
    "import socket\n",
    "\n",
    "def get_ip_address(website_url):\n",
    "    try:\n",
    "        ip_address = socket.gethostbyname(website_url)\n",
    "        print(f\"The IP address of {website_url} is {ip_address}\")\n",
    "    except socket.gaierror:\n",
    "        print(f\"Unable to get the IP address for {website_url}\")\n",
    "\n",
    "\n",
    "website = \"pinterest.com\"\n",
    "get_ip_address(website)"
   ]
  },
  {
   "cell_type": "code",
   "execution_count": 2,
   "metadata": {},
   "outputs": [
    {
     "name": "stdout",
     "output_type": "stream",
     "text": [
      " 1  skyrouter (192.168.0.1)  14.187 ms  3.389 ms  3.305 ms\n",
      " 2  * * *\n",
      " 3  2.120.14.247 (2.120.14.247)  7.283 ms\n",
      "    2.120.14.251 (2.120.14.251)  7.922 ms\n",
      "    2.120.14.247 (2.120.14.247)  6.586 ms\n",
      " 4  2.120.13.155 (2.120.13.155)  8.304 ms  8.756 ms\n",
      "    2.120.13.153 (2.120.13.153)  11.183 ms\n",
      " 5  * * *\n",
      " 6  192.178.46.84 (192.178.46.84)  11.272 ms\n",
      "    142.251.54.26 (142.251.54.26)  6.332 ms  88.404 ms\n",
      " 7  192.178.97.170 (192.178.97.170)  5.256 ms  6.100 ms  5.122 ms\n",
      " 8  142.251.233.55 (142.251.233.55)  15.271 ms\n",
      "    209.85.143.199 (209.85.143.199)  6.476 ms\n",
      "    142.251.232.211 (142.251.232.211)  6.603 ms\n",
      " 9  lhr48s27-in-f14.1e100.net (142.250.178.14)  5.385 ms  4.691 ms\n",
      "    209.85.250.90 (209.85.250.90)  18.982 ms\n",
      "\n"
     ]
    }
   ],
   "source": [
    "# Exercise 1: Try 3 websites and report their IP addresses.\n",
    "import subprocess\n",
    "\n",
    "def traceroute(domain):\n",
    "    try:\n",
    "        result = subprocess.run([\"traceroute\", domain], capture_output=True, text=True)\n",
    "        print(result.stdout)\n",
    "    except FileNotFoundError:\n",
    "        print(\"traceroute command not found. Make sure it's available.\")\n",
    "    except Exception as e:\n",
    "        print(f\"An error occurred: {e}\")\n",
    "\n",
    "# Example usage\n",
    "domain = \"google.com\"\n",
    "traceroute(domain)\n"
   ]
  },
  {
   "cell_type": "code",
   "execution_count": 3,
   "metadata": {},
   "outputs": [
    {
     "name": "stderr",
     "output_type": "stream",
     "text": [
      "Version 1.4a12+Darwin\n",
      "Usage: traceroute [-adDeFInrSvx] [-A as_server] [-f first_ttl] [-g gateway] [-i iface]\n",
      "\t[-M first_ttl] [-m max_ttl] [-p port] [-P proto] [-q nqueries] [-s src_addr]\n",
      "\t[-t tos] [-w waittime] [-z pausemsecs] host [packetlen]\n"
     ]
    }
   ],
   "source": [
    "# 2. Trace Route\n",
    "import os\n",
    "\n",
    "def trace_route(destination):\n",
    "    # use the traceroute command - (Linux/Mac)\n",
    "    os.system(f\"traceroute {destination}\")\n",
    "\n",
    "# example \n",
    "destination = input(\"instagram.com\")\n",
    "trace_route(destination)"
   ]
  },
  {
   "cell_type": "code",
   "execution_count": 4,
   "metadata": {},
   "outputs": [
    {
     "name": "stdout",
     "output_type": "stream",
     "text": [
      "HTTP/1.1 301 Moved Permanently\n",
      "Location: http://www.google.com/\n",
      "Content-Type: text/html; charset=UTF-8\n",
      "Content-Security-Policy-Report-Only: object-src 'none';base-uri 'self';script-src 'nonce-aruSbaqZmZtuUfpVSEoIuQ' 'strict-dynamic' 'report-sample' 'unsafe-eval' 'unsafe-inline' https: http:;report-uri https://csp.withgoogle.com/csp/gws/other-hp\n",
      "Date: Wed, 19 Mar 2025 21:32:39 GMT\n",
      "Expires: Fri, 18 Apr 2025 21:32:39 GMT\n",
      "Cache-Control: public, max-age=2592000\n",
      "Server: gws\n",
      "Content-Length: 219\n",
      "X-XSS-Protection: 0\n",
      "X-Frame-Options: SAMEORIGIN\n",
      "\n",
      "<HTML><HEAD><meta http-equiv=\"content-type\" content=\"text/html;charset=utf-8\">\n",
      "<TITLE>301 Moved</TITLE></HEAD><BODY>\n",
      "<H1>301 Moved</H1>\n",
      "The document has moved\n",
      "<A HREF=\"http://www.google.com/\">here</A>.\n",
      "</BODY></HTML>\n",
      "\n"
     ]
    }
   ],
   "source": [
    "# 3. Building a Simple HTTP Client\n",
    "import socket\n",
    "\n",
    "# create a socket object\n",
    "client_socket = socket.socket(socket.AF_INET, socket.SOCK_STREAM)\n",
    "\n",
    "# define the server address and port\n",
    "server_address = ('google.com', 80)\n",
    "\n",
    "# connect to the server\n",
    "client_socket.connect(server_address)\n",
    "\n",
    "# send an HTTP GET request\n",
    "request = \"GET / HTTP/1.1\\r\\nHost: google.com\\r\\n\\r\\n\"\n",
    "client_socket.send(request.encode())\n",
    "\n",
    "# receive the response\n",
    "response = client_socket.recv(4096)\n",
    "print(response.decode())\n",
    "\n",
    "# close the socket\n",
    "client_socket.close()\n"
   ]
  },
  {
   "cell_type": "code",
   "execution_count": 5,
   "metadata": {},
   "outputs": [
    {
     "name": "stdout",
     "output_type": "stream",
     "text": [
      "<!DOCTYPE html><html class=\"en\" lang=\"en\"><head><meta charSet=\"utf-8\"/><meta content=\"AobcHP0Riuw7qx+GcJ79jLXxzvz+vbYglMh02KHK8du7LYn9e2JLytVX5ABrS3PMoEeAZ5HxTvNW05uVVfni5gEAAAByeyJvcmlnaW4iOiJodHRwczovL3BpbnRlcmVzdC5jb206NDQzIiwiZmVhdHVyZSI6IkxvbmdBbmltYXRpb25GcmFtZVRpbWluZyIsImV4cGlyeSI6MTcxNjk0MDc5OSwiaXNTdWJkb21haW4iOnRydWV9\" http-equiv=\"origin-trial\"/><meta content=\"width=device-width, initial-scale=1\" id=\"viewport\" name=\"viewport\"/><meta content=\"default-src &#x27;self&#x27; blob: s.pinimg\n"
     ]
    }
   ],
   "source": [
    "# 4. Using the requests Library\n",
    "import requests\n",
    "\n",
    "response = requests.get('https://www.pinterest.com')\n",
    "print(response.text[:500])  # print only the first 500 char"
   ]
  },
  {
   "cell_type": "code",
   "execution_count": 6,
   "metadata": {},
   "outputs": [
    {
     "name": "stdout",
     "output_type": "stream",
     "text": [
      "Status Code: 201\n",
      "Response Body: {'title': 'Google Test', 'body': 'This is a test request.', 'userId': 1, 'id': 101}\n"
     ]
    }
   ],
   "source": [
    "# 5. HTTP Request Types\n",
    "# a. POST Request\n",
    "import requests\n",
    "\n",
    "url = 'https://jsonplaceholder.typicode.com/posts'\n",
    "data = {\n",
    "    \"title\": \"Google Test\",\n",
    "    \"body\": \"This is a test request.\",\n",
    "    \"userId\": 1\n",
    "}\n",
    "\n",
    "response = requests.post(url, json=data)\n",
    "print(f\"Status Code: {response.status_code}\")\n",
    "print(\"Response Body:\", response.json())\n"
   ]
  },
  {
   "cell_type": "code",
   "execution_count": 7,
   "metadata": {},
   "outputs": [
    {
     "name": "stdout",
     "output_type": "stream",
     "text": [
      "Status Code: 200\n",
      "Updated Resource: {'id': 1, 'title': 'Updated Title', 'body': 'This post content has been updated.', 'userId': 1}\n"
     ]
    }
   ],
   "source": [
    "# 5. HTTP Request Types\n",
    "# b. PUT Request\n",
    "import requests\n",
    "\n",
    "url = 'https://jsonplaceholder.typicode.com/posts/1'\n",
    "updated_data = {\n",
    "    \"id\": 1,\n",
    "    \"title\": \"Updated Title\",\n",
    "    \"body\": \"This post content has been updated.\",\n",
    "    \"userId\": 1\n",
    "}\n",
    "\n",
    "response = requests.put(url, json=updated_data)\n",
    "print(f\"Status Code: {response.status_code}\")\n",
    "print(\"Updated Resource:\", response.json())"
   ]
  },
  {
   "cell_type": "code",
   "execution_count": 8,
   "metadata": {},
   "outputs": [
    {
     "name": "stdout",
     "output_type": "stream",
     "text": [
      "Status Code: 200\n",
      "Resource successfully deleted.\n"
     ]
    }
   ],
   "source": [
    "# 5. HTTP Request Types\n",
    "# c. DELETE Request\n",
    "import requests\n",
    "\n",
    "url = 'https://jsonplaceholder.typicode.com/posts/1'\n",
    "response = requests.delete(url)\n",
    "print(f\"Status Code: {response.status_code}\")\n",
    "if response.status_code == 200:\n",
    "    print(\"Resource successfully deleted.\")"
   ]
  }
 ],
 "metadata": {
  "kernelspec": {
   "display_name": "base",
   "language": "python",
   "name": "python3"
  },
  "language_info": {
   "codemirror_mode": {
    "name": "ipython",
    "version": 3
   },
   "file_extension": ".py",
   "mimetype": "text/x-python",
   "name": "python",
   "nbconvert_exporter": "python",
   "pygments_lexer": "ipython3",
   "version": "3.12.4"
  }
 },
 "nbformat": 4,
 "nbformat_minor": 2
}
