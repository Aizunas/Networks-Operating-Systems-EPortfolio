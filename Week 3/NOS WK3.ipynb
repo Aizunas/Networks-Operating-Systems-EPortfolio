{
 "cells": [
  {
   "cell_type": "code",
   "execution_count": 1,
   "metadata": {},
   "outputs": [
    {
     "name": "stdout",
     "output_type": "stream",
     "text": [
      "The IP address of pinterest.com is 151.101.192.84\n"
     ]
    }
   ],
   "source": [
    "import socket\n",
    "\n",
    "def get_ip_address(website_url):\n",
    "    try:\n",
    "        ip_address = socket.gethostbyname(website_url)\n",
    "        print(f\"The IP address of {website_url} is {ip_address}\")\n",
    "    except socket.gaierror:\n",
    "        print(f\"Unable to get the IP address for {website_url}\")\n",
    "\n",
    "\n",
    "website = \"pinterest.com\"\n",
    "get_ip_address(website)"
   ]
  },
  {
   "cell_type": "code",
   "execution_count": 2,
   "metadata": {},
   "outputs": [
    {
     "name": "stdout",
     "output_type": "stream",
     "text": [
      " 1  skyrouter (192.168.0.1)  3.898 ms  2.606 ms  2.577 ms\n",
      " 2  * * *\n",
      " 3  2.120.14.247 (2.120.14.247)  10.027 ms\n",
      "    2.120.14.251 (2.120.14.251)  4.082 ms  4.189 ms\n",
      " 4  2.120.13.155 (2.120.13.155)  4.809 ms  4.507 ms  5.390 ms\n",
      " 5  * * *\n",
      " 6  192.178.46.80 (192.178.46.80)  10.602 ms\n",
      "    142.250.215.126 (142.250.215.126)  7.005 ms\n",
      "    142.251.54.30 (142.251.54.30)  8.597 ms\n",
      " 7  192.178.98.4 (192.178.98.4)  6.729 ms\n",
      "    209.85.248.241 (209.85.248.241)  6.032 ms\n",
      "    192.178.97.96 (192.178.97.96)  10.506 ms\n",
      " 8  216.239.59.5 (216.239.59.5)  6.308 ms  10.048 ms\n",
      "    ams16s21-in-f14.1e100.net (216.58.212.206)  7.864 ms\n",
      "\n"
     ]
    }
   ],
   "source": [
    "import subprocess\n",
    "\n",
    "def traceroute(domain):\n",
    "    try:\n",
    "        result = subprocess.run([\"traceroute\", domain], capture_output=True, text=True)\n",
    "        print(result.stdout)\n",
    "    except FileNotFoundError:\n",
    "        print(\"traceroute command not found. Make sure it's available.\")\n",
    "    except Exception as e:\n",
    "        print(f\"An error occurred: {e}\")\n",
    "\n",
    "# Example usage\n",
    "domain = \"google.com\"\n",
    "traceroute(domain)\n"
   ]
  },
  {
   "cell_type": "code",
   "execution_count": 3,
   "metadata": {},
   "outputs": [
    {
     "name": "stdout",
     "output_type": "stream",
     "text": [
      "HTTP/1.1 301 Moved Permanently\n",
      "Location: http://www.google.com/\n",
      "Content-Type: text/html; charset=UTF-8\n",
      "Content-Security-Policy-Report-Only: object-src 'none';base-uri 'self';script-src 'nonce-AWLNsofdPRYcEnfINLWbxA' 'strict-dynamic' 'report-sample' 'unsafe-eval' 'unsafe-inline' https: http:;report-uri https://csp.withgoogle.com/csp/gws/other-hp\n",
      "Date: Thu, 06 Feb 2025 12:32:50 GMT\n",
      "Expires: Sat, 08 Mar 2025 12:32:50 GMT\n",
      "Cache-Control: public, max-age=2592000\n",
      "Server: gws\n",
      "Content-Length: 219\n",
      "X-XSS-Protection: 0\n",
      "X-Frame-Options: SAMEORIGIN\n",
      "\n",
      "<HTML><HEAD><meta http-equiv=\"content-type\" content=\"text/html;charset=utf-8\">\n",
      "<TITLE>301 Moved</TITLE></HEAD><BODY>\n",
      "<H1>301 Moved</H1>\n",
      "The document has moved\n",
      "<A HREF=\"http://www.google.com/\">here</A>.\n",
      "</BODY></HTML>\n",
      "\n"
     ]
    }
   ],
   "source": [
    "import socket\n",
    "\n",
    "# Create a socket object\n",
    "client_socket = socket.socket(socket.AF_INET, socket.SOCK_STREAM)\n",
    "\n",
    "# Define the server address and port\n",
    "server_address = ('google.com', 80)\n",
    "\n",
    "# Connect to the server\n",
    "client_socket.connect(server_address)\n",
    "\n",
    "# Send an HTTP GET request\n",
    "request = \"GET / HTTP/1.1\\r\\nHost: google.com\\r\\n\\r\\n\"\n",
    "client_socket.send(request.encode())\n",
    "\n",
    "# Receive the response\n",
    "response = client_socket.recv(4096)\n",
    "print(response.decode())\n",
    "\n",
    "# Close the socket\n",
    "client_socket.close()\n"
   ]
  },
  {
   "cell_type": "code",
   "execution_count": 4,
   "metadata": {},
   "outputs": [
    {
     "name": "stdout",
     "output_type": "stream",
     "text": [
      "<!doctype html><html itemscope=\"\" itemtype=\"http://schema.org/WebPage\" lang=\"en-GB\"><head><meta content=\"text/html; charset=UTF-8\" http-equiv=\"Content-Type\"><meta content=\"/images/branding/googleg/1x/googleg_standard_color_128dp.png\" itemprop=\"image\"><title>Google</title><script nonce=\"wvv2cVcBX4hJNSz7-2_VZw\">(function(){var _g={kEI:'A6ykZ66HM4PV7M8PmY-K4Aw',kEXPI:'0,202746,3497497,706,435,538661,2872,2891,73050,16105,78219,266577,212051,7734,6626,20908,11814,11342,19569,5240755,768,8834954,60,5\n"
     ]
    }
   ],
   "source": [
    "import requests\n",
    "\n",
    "response = requests.get('https://www.google.com')\n",
    "print(response.text[:500])  # Print only the first 500 characters"
   ]
  },
  {
   "cell_type": "code",
   "execution_count": 5,
   "metadata": {},
   "outputs": [
    {
     "name": "stdout",
     "output_type": "stream",
     "text": [
      "Status Code: 201\n",
      "Response Body: {'title': 'Google Test', 'body': 'This is a test request.', 'userId': 1, 'id': 101}\n"
     ]
    }
   ],
   "source": [
    "import requests\n",
    "\n",
    "url = 'https://jsonplaceholder.typicode.com/posts'\n",
    "data = {\n",
    "    \"title\": \"Google Test\",\n",
    "    \"body\": \"This is a test request.\",\n",
    "    \"userId\": 1\n",
    "}\n",
    "\n",
    "response = requests.post(url, json=data)\n",
    "print(f\"Status Code: {response.status_code}\")\n",
    "print(\"Response Body:\", response.json())\n"
   ]
  },
  {
   "cell_type": "code",
   "execution_count": null,
   "metadata": {},
   "outputs": [],
   "source": []
  }
 ],
 "metadata": {
  "kernelspec": {
   "display_name": "base",
   "language": "python",
   "name": "python3"
  },
  "language_info": {
   "codemirror_mode": {
    "name": "ipython",
    "version": 3
   },
   "file_extension": ".py",
   "mimetype": "text/x-python",
   "name": "python",
   "nbconvert_exporter": "python",
   "pygments_lexer": "ipython3",
   "version": "3.12.4"
  }
 },
 "nbformat": 4,
 "nbformat_minor": 2
}
