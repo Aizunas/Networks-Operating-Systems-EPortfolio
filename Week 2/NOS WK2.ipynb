{
 "cells": [
  {
   "cell_type": "code",
   "execution_count": 1,
   "metadata": {},
   "outputs": [
    {
     "name": "stdout",
     "output_type": "stream",
     "text": [
      "Hello World\n"
     ]
    }
   ],
   "source": [
    "print('Hello World')\n"
   ]
  },
  {
   "cell_type": "code",
   "execution_count": 2,
   "metadata": {},
   "outputs": [
    {
     "name": "stdout",
     "output_type": "stream",
     "text": [
      "Sanuzia\n"
     ]
    }
   ],
   "source": [
    "print('Sanuzia')\n"
   ]
  },
  {
   "cell_type": "code",
   "execution_count": 3,
   "metadata": {},
   "outputs": [
    {
     "name": "stdout",
     "output_type": "stream",
     "text": [
      "The result of 3 + 3 is 6\n"
     ]
    }
   ],
   "source": [
    "#REVISION: BASIC MATHS OPERATION\n",
    "\n",
    "# i.Write a script to add two numbers and print the result.\n",
    "# gets user input and convert to integers\n",
    "num1 = int(input(\"Enter the first number: \"))\n",
    "num2 = int(input(\"Enter the second number: \"))\n",
    "\n",
    "# adds the numbers\n",
    "result = num1 + num2\n",
    "\n",
    "# prints the result\n",
    "print(f\"The result of {num1} + {num2} is {result}\")\n"
   ]
  },
  {
   "cell_type": "code",
   "execution_count": 4,
   "metadata": {},
   "outputs": [
    {
     "name": "stdout",
     "output_type": "stream",
     "text": [
      "The result of 3 - 3 is 0\n"
     ]
    }
   ],
   "source": [
    "# ii. Write a script to subtract two numbers and print the result.\n",
    "\n",
    "num1 = int(input(\"Enter the first number: \"))\n",
    "num2 = int(input(\"Enter the second number: \"))\n",
    "\n",
    "# subtracts the numbers\n",
    "result = num1 - num2\n",
    "\n",
    "# prints result\n",
    "print(f\"The result of {num1} - {num2} is {result}\")\n",
    "\n"
   ]
  },
  {
   "cell_type": "code",
   "execution_count": 5,
   "metadata": {},
   "outputs": [
    {
     "name": "stdout",
     "output_type": "stream",
     "text": [
      "The result of 3 × 3 is 9\n"
     ]
    }
   ],
   "source": [
    "# Write a script to multiply two numbers and print the result.\n",
    "\n",
    "num1 = int(input(\"Enter the first number: \"))\n",
    "num2 = int(input(\"Enter the second number: \"))\n",
    "\n",
    "# multiply the numbers\n",
    "result = num1 * num2\n",
    "\n",
    "# prints result\n",
    "print(f\"The result of {num1} × {num2} is {result}\")\n"
   ]
  },
  {
   "cell_type": "code",
   "execution_count": 6,
   "metadata": {},
   "outputs": [
    {
     "name": "stdout",
     "output_type": "stream",
     "text": [
      "The result of 3.0 ÷ 3.0 is 1.0\n"
     ]
    }
   ],
   "source": [
    "# Write a script to divide two numbers and print the result.\n",
    "try:\n",
    "    # gets user input and converts to float for division\n",
    "    num1 = float(input(\"Enter the first number: \"))\n",
    "    num2 = float(input(\"Enter the second number: \"))\n",
    "\n",
    "    # checks for division by zero\n",
    "    if num2 == 0:\n",
    "        print(\"Error: Division by zero is not allowed.\")\n",
    "    else:\n",
    "        result = num1 / num2\n",
    "        print(f\"The result of {num1} ÷ {num2} is {result}\")\n",
    "\n",
    "except ValueError:\n",
    "    print(\"Invalid input! Please enter numeric values.\")\n"
   ]
  },
  {
   "cell_type": "code",
   "execution_count": 7,
   "metadata": {},
   "outputs": [
    {
     "name": "stdout",
     "output_type": "stream",
     "text": [
      "The remainder when 33 is divided by 3 is 0\n"
     ]
    }
   ],
   "source": [
    "# Write a script to calculate the remainder of two numbers and print the result.\n",
    "try:\n",
    "    # gets user input and converts to integers\n",
    "    num1 = int(input(\"Enter the first number: \"))\n",
    "    num2 = int(input(\"Enter the second number: \"))\n",
    "\n",
    "    # checks for division by zero\n",
    "    if num2 == 0:\n",
    "        print(\"Error: Division by zero is not allowed.\")\n",
    "    else:\n",
    "        remainder = num1 % num2\n",
    "        print(f\"The remainder when {num1} is divided by {num2} is {remainder}\")\n",
    "\n",
    "except ValueError:\n",
    "    print(\"Invalid input! Please enter numeric values.\")\n"
   ]
  },
  {
   "cell_type": "code",
   "execution_count": 8,
   "metadata": {},
   "outputs": [
    {
     "name": "stdout",
     "output_type": "stream",
     "text": [
      "3 raised to the power of 3 is 27\n"
     ]
    }
   ],
   "source": [
    "# Write a script to calculate the power of a number and print the result.\n",
    "try:\n",
    "  \n",
    "    base = int(input(\"Enter the base number: \"))\n",
    "    exponent = int(input(\"Enter the exponent: \"))\n",
    "\n",
    "    # calculate the power\n",
    "    result = base ** exponent\n",
    "\n",
    "    # prints the result\n",
    "    print(f\"{base} raised to the power of {exponent} is {result}\")\n",
    "\n",
    "except ValueError:\n",
    "    print(\"Invalid input! Please enter numeric values.\")\n"
   ]
  },
  {
   "cell_type": "code",
   "execution_count": 9,
   "metadata": {},
   "outputs": [
    {
     "name": "stdout",
     "output_type": "stream",
     "text": [
      "Here are 5 different fruits:\n",
      "- watermelon\n",
      "- pineapple\n",
      "- mango\n",
      "- apple\n",
      "- grapes\n"
     ]
    }
   ],
   "source": [
    "#EXERCISE 2: PYTHON DATA TYPES\n",
    "# Create a list of 5 different fruits and print the list.\n",
    "fruits = ['watermelon', 'pineapple', 'mango', 'apple', 'grapes']\n",
    "\n",
    "\n",
    "print(\"Here are 5 different fruits:\")\n",
    "for fruit in fruits:\n",
    "    print(f\"- {fruit}\")\n"
   ]
  },
  {
   "cell_type": "code",
   "execution_count": 10,
   "metadata": {},
   "outputs": [
    {
     "name": "stdout",
     "output_type": "stream",
     "text": [
      "Here are 3 different animals:\n",
      "- lion\n",
      "- shark\n",
      "- llama\n"
     ]
    }
   ],
   "source": [
    "#EXERCISE 2: PYTHON DATA TYPES\n",
    "# Create a tuple of 3 different animals and print the tuple.\n",
    "\n",
    "animals = ('lion', 'shark', 'llama')\n",
    "\n",
    "# prints the tuple \n",
    "print(\"Here are 3 different animals:\")\n",
    "for animal in animals:\n",
    "    print(f\"- {animal}\")\n"
   ]
  },
  {
   "cell_type": "code",
   "execution_count": 11,
   "metadata": {},
   "outputs": [
    {
     "name": "stdout",
     "output_type": "stream",
     "text": [
      "Programming languages and their release dates:\n",
      "Python was released in 1991\n",
      "Java was released in 1996\n",
      "C was released in 1972\n"
     ]
    }
   ],
   "source": [
    "#EXERCISE 2: PYTHON DATA TYPES\n",
    "# Create a dictionary of 3 different key-value pairs where the keys are names of programming languages and the values are their release dates.\n",
    "languages = {\n",
    "    \"Python\": 1991,\n",
    "    \"Java\": 1996,\n",
    "    \"C\": 1972\n",
    "}\n",
    "\n",
    "# prints the dictionary \n",
    "print(\"Programming languages and their release dates:\")\n",
    "for language, year in languages.items():\n",
    "    print(f\"{language} was released in {year}\")"
   ]
  },
  {
   "cell_type": "code",
   "execution_count": 12,
   "metadata": {},
   "outputs": [
    {
     "name": "stdout",
     "output_type": "stream",
     "text": [
      "Here are the colors:\n",
      "- blue\n",
      "- green\n",
      "- purple\n"
     ]
    }
   ],
   "source": [
    "#EXERCISE 2: PYTHON DATA TYPES\n",
    "# Create a set of 3 different colours and print the set.\n",
    "# creates the set of colors\n",
    "colors = {'blue', 'green', 'purple'}\n",
    "\n",
    "# prints the set in a sorted order\n",
    "print(\"Here are the colors:\")\n",
    "for color in sorted(colors):\n",
    "    print(f\"- {color}\")\n"
   ]
  },
  {
   "cell_type": "code",
   "execution_count": 13,
   "metadata": {},
   "outputs": [
    {
     "name": "stdout",
     "output_type": "stream",
     "text": [
      "Python is an easy-to-learn programming language.\n"
     ]
    }
   ],
   "source": [
    "#EXERCISE 2: PYTHON DATA TYPES\n",
    "# Create a string variable that contains the sentence \"Python is an easy-to-learn programming language.\n",
    "x = 'Python is an easy-to-learn programming language.'\n",
    "\n",
    "\n",
    "print(x)"
   ]
  },
  {
   "cell_type": "code",
   "execution_count": 14,
   "metadata": {},
   "outputs": [
    {
     "name": "stdout",
     "output_type": "stream",
     "text": [
      "Positive number\n"
     ]
    }
   ],
   "source": [
    "\n",
    "# EXERCISE 3: CONDITIONS \n",
    "# Write a script that takes a user input of a number and checks if it is positive, negative or zero. Print the results.\n",
    "try:\n",
    "    # takes user input and converts to integer\n",
    "    num = int(input('Please enter a number: '))\n",
    "\n",
    "    # checks if the number is positive, negative, or zero\n",
    "    if num > 0:\n",
    "        print('Positive number')\n",
    "    elif num < 0:\n",
    "        print('Negative number')\n",
    "    else:\n",
    "        print('Number is 0')\n",
    "        \n",
    "except ValueError:\n",
    "    print(\"Invalid input! Please enter a valid number.\")\n",
    "\n"
   ]
  },
  {
   "cell_type": "code",
   "execution_count": 15,
   "metadata": {},
   "outputs": [
    {
     "name": "stdout",
     "output_type": "stream",
     "text": [
      "The input starts with a special character or a number.\n"
     ]
    }
   ],
   "source": [
    "\n",
    "# EXERCISE 3: CONDITIONS \n",
    "# Write a script that takes a user input of a string and checks if it starts with a vowel or consonant. Print the results.\n",
    "word = input('Please enter a word: ').strip()  # removing any extra spaces at the beginning (leading) and end (trailing) of a string.\n",
    "\n",
    "if not word:  # checks if input is empty\n",
    "    print(\"You didn't enter a word.\")  \n",
    "elif not word[0].isalpha():  # checks if the first character is not a letter\n",
    "    print(\"The input starts with a special character or a number.\")  \n",
    "elif word[0].lower() in ('a', 'e', 'i', 'o', 'u'):  # checks for vowels (case-insensitive)\n",
    "    print('The word starts with a vowel.')  \n",
    "else:\n",
    "    print('The word starts with a consonant.')\n",
    "\n"
   ]
  },
  {
   "cell_type": "code",
   "execution_count": 16,
   "metadata": {},
   "outputs": [
    {
     "name": "stdout",
     "output_type": "stream",
     "text": [
      "The numbers are equal.\n"
     ]
    }
   ],
   "source": [
    "\n",
    "# EXERCISE 3: CONDITIONS \n",
    "# Write a script that takes a user input of two numbers and checks if they are equal or not. Print the results.\n",
    "while True:\n",
    "    try:\n",
    "        # user input\n",
    "        num1 = int(input('Enter your first number: '))\n",
    "        num2 = int(input('Enter your second number: '))\n",
    "\n",
    "        # check if the numbers are equal\n",
    "        if num1 == num2:\n",
    "            print('The numbers are equal.')\n",
    "        else:\n",
    "            print('The numbers are not equal.')\n",
    "        break  # exit the loop after successful input\n",
    "\n",
    "    except ValueError:\n",
    "        print(\"Invalid input! Please enter valid numbers.\")\n"
   ]
  },
  {
   "cell_type": "code",
   "execution_count": 17,
   "metadata": {},
   "outputs": [
    {
     "name": "stdout",
     "output_type": "stream",
     "text": [
      "1\n",
      "2\n",
      "3\n",
      "4\n",
      "5\n",
      "6\n",
      "7\n",
      "8\n",
      "9\n",
      "10\n"
     ]
    }
   ],
   "source": [
    "# EXERCISE 4: LOOPS\n",
    "\n",
    "# Write a script that prints the numbers from 1 to 10 using a for loop.\n",
    "# using range() to print numbers from 1 to 10\n",
    "for value in range(1, 11):\n",
    "    print(value)\n"
   ]
  },
  {
   "cell_type": "code",
   "execution_count": 18,
   "metadata": {},
   "outputs": [
    {
     "name": "stdout",
     "output_type": "stream",
     "text": [
      "2\n",
      "4\n",
      "6\n",
      "8\n",
      "10\n"
     ]
    }
   ],
   "source": [
    "# EXERCISE 4: LOOPS\n",
    "# Write a script that prints the even numbers from 2 to 10 using a for loop.\n",
    "\n",
    "for value in range(2, 11, 2):  # start at 2, end at 11 (exclusive), step by 2\n",
    "    print(value)\n"
   ]
  },
  {
   "cell_type": "code",
   "execution_count": 19,
   "metadata": {},
   "outputs": [
    {
     "name": "stdout",
     "output_type": "stream",
     "text": [
      "0 1 1 2 3 "
     ]
    }
   ],
   "source": [
    "# EXERCISE 4: LOOPS\n",
    "\n",
    "# Write a script that prints the first 5 numbers of the Fibonacci sequence using a while loop.\n",
    "\n",
    "n = 5  # for first 5 Fibonacci numbers\n",
    "first_num = 0\n",
    "second_num = 1\n",
    "count = 0\n",
    "\n",
    "while count < n:  #condition to print exactly n numbers\n",
    "    print(first_num, end=\" \")\n",
    "    first_num, second_num = second_num, first_num + second_num  # update to next Fibonacci number\n",
    "    count += 1\n",
    "\n"
   ]
  },
  {
   "cell_type": "code",
   "execution_count": 20,
   "metadata": {},
   "outputs": [
    {
     "name": "stdout",
     "output_type": "stream",
     "text": [
      "The sum of 3 and 3 is 6\n"
     ]
    }
   ],
   "source": [
    "# EXERCISE 5: FUNCTIONS\n",
    "\n",
    "# Write a function that takes two numbers as parameters and returns their sum.\n",
    "# Define the function to add two numbers\n",
    "def add_numbers(num1, num2):\n",
    "    return num1 + num2\n",
    "\n",
    "#user input\n",
    "num1 = int(input('Please enter your first number: '))\n",
    "num2 = int(input('Please enter your second number: '))\n",
    "\n",
    "# calls the function and prints the result\n",
    "result = add_numbers(num1, num2)\n",
    "print(f\"The sum of {num1} and {num2} is {result}\")\n"
   ]
  },
  {
   "cell_type": "code",
   "execution_count": 21,
   "metadata": {},
   "outputs": [
    {
     "name": "stdout",
     "output_type": "stream",
     "text": [
      "The largest number in the list is: 3\n"
     ]
    }
   ],
   "source": [
    "# EXERCISE 5: FUNCTIONS\n",
    "# Write a function that takes a list of numbers as a parameter and returns the largest number in the list.\n",
    "# Define the function to find the largest number in a list\n",
    "\n",
    "def find_largest(numbers):\n",
    "    return max(numbers)\n",
    "\n",
    "# takes user input and converts it to a list of integers\n",
    "numbers = list(map(int, input(\"Enter numbers separated by spaces: \").split()))\n",
    "\n",
    "# call the function and print the result\n",
    "largest_number = find_largest(numbers)\n",
    "print(f\"The largest number in the list is: {largest_number}\")\n",
    "\n"
   ]
  },
  {
   "cell_type": "code",
   "execution_count": 22,
   "metadata": {},
   "outputs": [
    {
     "name": "stdout",
     "output_type": "stream",
     "text": [
      "The number of vowels in the string is: 0\n"
     ]
    }
   ],
   "source": [
    "# EXERCISE 5: FUNCTIONS\n",
    "# Write a function that takes a string as a parameter and returns the number of vowels in the string.\n",
    "# define the function to count vowels in a string\n",
    "def count_vowels(input_string):\n",
    "    vowels = \"aeiouAEIOU\"  # include both lower and uppercase vowels\n",
    "    count = 0  # initialize the counter for vowels\n",
    "    for char in input_string:\n",
    "        if char in vowels:\n",
    "            count += 1\n",
    "    return count\n",
    "\n",
    "# string input\n",
    "input_string = input(\"Enter a string: \")\n",
    "\n",
    "# function call and print the result\n",
    "vowel_count = count_vowels(input_string)\n",
    "print(f\"The number of vowels in the string is: {vowel_count}\")\n"
   ]
  },
  {
   "cell_type": "code",
   "execution_count": 23,
   "metadata": {},
   "outputs": [
    {
     "name": "stdout",
     "output_type": "stream",
     "text": [
      "Password must be at least 8 characters long.\n"
     ]
    }
   ],
   "source": [
    "#EXERCISE 6: PASSWORD STRENGTH CHECKER\n",
    "import re\n",
    "\n",
    "def check_password_strength(password):\n",
    "    # check the length of the password\n",
    "    if len(password) < 8:\n",
    "        print(\"Password must be at least 8 characters long.\")\n",
    "        return\n",
    "    \n",
    "    # check for at least 1 uppercase letter\n",
    "    if not any(char.isupper() for char in password):\n",
    "        print(\"Password must contain at least one uppercase letter.\")\n",
    "        return\n",
    "    \n",
    "    # check for at least 1 lowercase letter\n",
    "    if not any(char.islower() for char in password):\n",
    "        print(\"Password must contain at least one lowercase letter.\")\n",
    "        return\n",
    "    \n",
    "    # check for at least one special character\n",
    "    if not re.search(r'[!@#$%^&*(),.?\":{}|<>]', password):\n",
    "        print(\"Password must contain at least one special character.\")\n",
    "        return\n",
    "    \n",
    "    # if all conditions are met\n",
    "    print(\"Password is strong\")\n",
    "\n",
    "# input: Password\n",
    "password = input(\"Enter your password: \")\n",
    "\n",
    "# check the password strength\n",
    "check_password_strength(password)\n",
    "\n"
   ]
  },
  {
   "cell_type": "code",
   "execution_count": 25,
   "metadata": {},
   "outputs": [
    {
     "name": "stdout",
     "output_type": "stream",
     "text": [
      "Result: zcyrzodfwy\n"
     ]
    }
   ],
   "source": [
    "#EXERCISE 7: CEASAR CIPHER\n",
    "def caesar_cipher(message, key, mode):\n",
    "    result = \"\"\n",
    "    \n",
    "    # loop through each character in the message\n",
    "    for char in message:\n",
    "        # check if character is a letter (ignoring special characters or spaces)\n",
    "        if char.isalpha():\n",
    "            # determine the ASCII code of the letter (upper or lowercase)\n",
    "            ascii_offset = 65 if char.isupper() else 97\n",
    "            \n",
    "            # shift character based on mode\n",
    "            if mode == \"encrypt\":\n",
    "                new_char = chr((ord(char) - ascii_offset + key) % 26 + ascii_offset)\n",
    "            elif mode == \"decrypt\":\n",
    "                new_char = chr((ord(char) - ascii_offset - key) % 26 + ascii_offset)\n",
    "            result += new_char\n",
    "        else:\n",
    "            # if it's a special character or space, add it \n",
    "            result += char\n",
    "\n",
    "    return result\n",
    "\n",
    "# user input\n",
    "message = input(\"Enter the message: \")\n",
    "key = int(input(\"Enter the key (shift value): \"))\n",
    "mode = input(\"Enter the mode (encrypt/decrypt): \").lower()\n",
    "\n",
    "# call the function and print the result\n",
    "encrypted_decrypted_message = caesar_cipher(message, key, mode)\n",
    "print(f\"Result: {encrypted_decrypted_message}\")\n"
   ]
  },
  {
   "cell_type": "code",
   "execution_count": 26,
   "metadata": {},
   "outputs": [
    {
     "name": "stdout",
     "output_type": "stream",
     "text": [
      "Current word: _ _ _ _\n",
      "Incorrect guesses left: 6\n",
      "'o' is not in the word. You have 5 incorrect guesses left.\n",
      "Current word: _ _ _ _\n",
      "Incorrect guesses left: 5\n",
      "'e' is not in the word. You have 4 incorrect guesses left.\n",
      "Current word: _ _ _ _\n",
      "Incorrect guesses left: 4\n",
      "'s' is not in the word. You have 3 incorrect guesses left.\n",
      "Current word: _ _ _ _\n",
      "Incorrect guesses left: 3\n",
      "'d' is not in the word. You have 2 incorrect guesses left.\n",
      "Current word: _ _ _ _\n",
      "Incorrect guesses left: 2\n",
      "'f' is not in the word. You have 1 incorrect guesses left.\n",
      "Current word: _ _ _ _\n",
      "Incorrect guesses left: 1\n",
      "You've already guessed 'f'. Try again.\n",
      "Current word: _ _ _ _\n",
      "Incorrect guesses left: 1\n",
      "You've already guessed 'd'. Try again.\n",
      "Current word: _ _ _ _\n",
      "Incorrect guesses left: 1\n",
      "'a' is not in the word. You have 0 incorrect guesses left.\n",
      "Game Over! The word was 'ruby'.\n"
     ]
    }
   ],
   "source": [
    "# EXERCISE 8: HANGMAN GAME \n",
    "\n",
    "# hangman Game\n",
    "import random\n",
    "\n",
    "def hangman():\n",
    "    # list of words to choose from\n",
    "    word_list = [\"python\", \"java\", \"javascript\", \"ruby\", \"swift\"]\n",
    "    \n",
    "    # randomly select a word\n",
    "    word = random.choice(word_list)\n",
    "    \n",
    "    # set to track guessed letters\n",
    "    guessed_letters = set()\n",
    "    \n",
    "    # max number of incorrect guesses\n",
    "    max_guesses = 6\n",
    "    incorrect_guesses = 0\n",
    "    \n",
    "    # create a display to show progress\n",
    "    display = [\"_\"] * len(word)\n",
    "    \n",
    "    # game loop\n",
    "    while incorrect_guesses < max_guesses:\n",
    "        print(\"Current word: \" + \" \".join(display))\n",
    "        print(f\"Incorrect guesses left: {max_guesses - incorrect_guesses}\")\n",
    "        \n",
    "        # get user guess\n",
    "        guess = input(\"Guess a letter: \").lower()\n",
    "        \n",
    "        # check if input is valid (only one letter)\n",
    "        if len(guess) != 1 or not guess.isalpha():\n",
    "            print(\"Please enter a single valid letter.\")\n",
    "            continue\n",
    "        \n",
    "        # if letter has already been guessed\n",
    "        if guess in guessed_letters:\n",
    "            print(f\"You've already guessed '{guess}'. Try again.\")\n",
    "            continue\n",
    "        \n",
    "        # add guess to the guessed letters set\n",
    "        guessed_letters.add(guess)\n",
    "        \n",
    "        # check if the guess is in the word\n",
    "        if guess in word:\n",
    "            print(f\"Good guess! '{guess}' is in the word.\")\n",
    "            \n",
    "            # update the display to show the correct guess\n",
    "            for i in range(len(word)):\n",
    "                if word[i] == guess:\n",
    "                    display[i] = guess\n",
    "            \n",
    "            # check if the player has guessed the word\n",
    "            if \"_\" not in display:\n",
    "                print(\"Congratulations, you guessed the word '\" + word + \"'!\")\n",
    "                break\n",
    "        else:\n",
    "            incorrect_guesses += 1\n",
    "            print(f\"'{guess}' is not in the word. You have {max_guesses - incorrect_guesses} incorrect guesses left.\")\n",
    "    \n",
    "    # if player runs out of guesses\n",
    "    if incorrect_guesses == max_guesses:\n",
    "        print(f\"Game Over! The word was '{word}'.\")\n",
    "\n",
    "# start the game\n",
    "hangman()\n",
    "\n"
   ]
  }
 ],
 "metadata": {
  "kernelspec": {
   "display_name": "base",
   "language": "python",
   "name": "python3"
  },
  "language_info": {
   "codemirror_mode": {
    "name": "ipython",
    "version": 3
   },
   "file_extension": ".py",
   "mimetype": "text/x-python",
   "name": "python",
   "nbconvert_exporter": "python",
   "pygments_lexer": "ipython3",
   "version": "3.12.4"
  }
 },
 "nbformat": 4,
 "nbformat_minor": 2
}
